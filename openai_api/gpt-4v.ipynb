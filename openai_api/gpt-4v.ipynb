{
 "cells": [
  {
   "cell_type": "markdown",
   "id": "b4b6a552-b7f0-433d-9a70-61c4fcc52d5d",
   "metadata": {},
   "source": [
    "# 快速入门 GPT-4 Vison\n",
    "\n",
    "从历史上看，语言模型系统仅接受**文本**作为输入。但是单一的输入形式，限制了大模型的应用落地范围。\n",
    "\n",
    "随着技术发展，OpenAI 开发的 GPT-4 Turbo with Vision（简称 GPT-4V）允许模型接收**图像**作为输入，并回答关于它们的问题。\n",
    "\n",
    "📢注意，目前在 Assistants API 中使用 GPT-4 时还不支持图像输入。"
   ]
  },
  {
   "cell_type": "markdown",
   "id": "3a701c56-0a2a-4dea-b458-234150b84ff2",
   "metadata": {},
   "source": [
    "## 使用 GPT-4V 识别线上图像（URL）\n",
    "\n",
    "![image_sample](https://upload.wikimedia.org/wikipedia/commons/thumb/d/dd/Gfp-wisconsin-madison-the-nature-boardwalk.jpg/2560px-Gfp-wisconsin-madison-the-nature-boardwalk.jpg)"
   ]
  },
  {
   "cell_type": "code",
   "execution_count": 6,
   "id": "bf8689b2-94f2-4a35-a332-9ffed0a56aca",
   "metadata": {
    "ExecuteTime": {
     "end_time": "2024-07-27T05:52:07.874346800Z",
     "start_time": "2024-07-27T05:51:54.207026800Z"
    }
   },
   "outputs": [
    {
     "name": "stdout",
     "output_type": "stream",
     "text": [
      "Choice(finish_reason='stop', index=0, logprobs=None, message=ChatCompletionMessage(content='这幅图展示了一个平静且自然的景观。图片中心是一条木制的步道，直通前方，周围是郁郁葱葱的高草和一些灌木。这条步道可能是为了让人们可以轻松地穿过湿地或草地而建。图像的背景是广阔的天空，蓝天中散布着一些白云，给人一种宁静和自由的感觉。\\n\\n这个场景带有强烈的自然和平静的氛围，适合那些寻求从日常忙碌生活中逃离，享受自然之美的人。步道引人向前，激发了探索和冒险的欲望，而周围的自然环境提供了一个放松和沉思的完美空间。', role='assistant', function_call=None, tool_calls=None))\n"
     ]
    }
   ],
   "source": [
    "from openai import OpenAI\n",
    "\n",
    "client = OpenAI()\n",
    "\n",
    "response = client.chat.completions.create(\n",
    "  model=\"gpt-4-turbo\",\n",
    "  messages=[\n",
    "    {\n",
    "      \"role\": \"user\",\n",
    "      \"content\": [\n",
    "        {\"type\": \"text\", \"text\": \"介绍下这幅图?\"},\n",
    "        {\n",
    "          \"type\": \"image_url\",\n",
    "          \"image_url\": {\n",
    "            \"url\": \"https://upload.wikimedia.org/wikipedia/commons/thumb/d/dd/Gfp-wisconsin-madison-the-nature-boardwalk.jpg/2560px-Gfp-wisconsin-madison-the-nature-boardwalk.jpg\",\n",
    "          },\n",
    "        },\n",
    "      ],\n",
    "    }\n",
    "  ],\n",
    "  max_tokens=300,\n",
    ")\n",
    "\n",
    "print(response.choices[0])"
   ]
  },
  {
   "cell_type": "code",
   "execution_count": 7,
   "id": "9bcc9026-7485-428f-8269-ea9ae41405cb",
   "metadata": {
    "ExecuteTime": {
     "end_time": "2024-07-27T05:52:10.612784900Z",
     "start_time": "2024-07-27T05:52:10.591536100Z"
    }
   },
   "outputs": [
    {
     "data": {
      "text/plain": "'这幅图展示了一个平静且自然的景观。图片中心是一条木制的步道，直通前方，周围是郁郁葱葱的高草和一些灌木。这条步道可能是为了让人们可以轻松地穿过湿地或草地而建。图像的背景是广阔的天空，蓝天中散布着一些白云，给人一种宁静和自由的感觉。\\n\\n这个场景带有强烈的自然和平静的氛围，适合那些寻求从日常忙碌生活中逃离，享受自然之美的人。步道引人向前，激发了探索和冒险的欲望，而周围的自然环境提供了一个放松和沉思的完美空间。'"
     },
     "execution_count": 7,
     "metadata": {},
     "output_type": "execute_result"
    }
   ],
   "source": [
    "response.choices[0].message.content"
   ]
  },
  {
   "cell_type": "markdown",
   "id": "7fb50a14-fa14-4c63-9f81-b98b0f65d9d9",
   "metadata": {},
   "source": [
    "### 封装成一个函数 query_image_description"
   ]
  },
  {
   "cell_type": "code",
   "execution_count": 8,
   "id": "c1ca5428-c7e1-4d7e-91f1-d4a05e95ac51",
   "metadata": {
    "ExecuteTime": {
     "end_time": "2024-07-27T05:52:16.815434400Z",
     "start_time": "2024-07-27T05:52:16.806430200Z"
    }
   },
   "outputs": [],
   "source": [
    "def query_image_description(url, prompt=\"介绍下这幅图?\"):\n",
    "    client = OpenAI()  # 初始化 OpenAI 客户端\n",
    "    \n",
    "    # 发送请求给 OpenAI 的聊天模型\n",
    "    response = client.chat.completions.create(\n",
    "        model=\"gpt-4-turbo\",  # 指定使用的模型\n",
    "        messages=[\n",
    "            {\n",
    "                \"role\": \"user\",\n",
    "                \"content\": [\n",
    "                    {\"type\": \"text\", \"text\": prompt},\n",
    "                    {\"type\": \"image_url\", \"image_url\": {\"url\": url}},\n",
    "                ],\n",
    "            }\n",
    "        ],\n",
    "        max_tokens=300,\n",
    "    )\n",
    "    \n",
    "    # 返回模型的响应\n",
    "    return response.choices[0].message.content\n"
   ]
  },
  {
   "cell_type": "markdown",
   "id": "a0d0aceb-7cc5-4da1-b6db-e47716ba145a",
   "metadata": {},
   "source": [
    "### 调用函数测试\n",
    "\n",
    "![meme_0](https://p6.itc.cn/q_70/images03/20200602/0c267a0d3d814c9783659eb956969ba1.jpeg)"
   ]
  },
  {
   "cell_type": "code",
   "execution_count": 9,
   "id": "454abb5c-49d3-42e6-867e-f44e25af5e0e",
   "metadata": {
    "ExecuteTime": {
     "end_time": "2024-07-27T05:52:38.676126500Z",
     "start_time": "2024-07-27T05:52:19.774151500Z"
    }
   },
   "outputs": [
    {
     "name": "stdout",
     "output_type": "stream",
     "text": [
      "这幅图是一张幽默的对比图片，显示了两种截然不同的狗狗形象。左边是一只狗被赋予了人类肌肉健壮的身体，标注“16岁的我”，下方有文字“我刚走一片光明，岁月未央，人山人海的天底下”。右边是一只看起来悠闲自得、体形稍显圆润的狗狗，标注“工作后的我”，下面的文字则是“好累啊都要瘫倒坐骨神经痛，巴不得不用骨折裂花钱看病，我在顾小四购”。\n",
      "\n",
      "这类图片常用于表现人们在年轻时候的理想与成年后的现实之间的差异，通过夸张和幽默的手法反映出生活的压力和变化。\n"
     ]
    }
   ],
   "source": [
    "image_url = \"https://p6.itc.cn/q_70/images03/20200602/0c267a0d3d814c9783659eb956969ba1.jpeg\"\n",
    "content = query_image_description(image_url)\n",
    "print(content)"
   ]
  },
  {
   "cell_type": "code",
   "execution_count": 9,
   "id": "2471306a-84e2-4793-b065-0741fbe57262",
   "metadata": {
    "ExecuteTime": {
     "end_time": "2024-07-27T05:52:41.889046600Z",
     "start_time": "2024-07-27T05:52:41.864006900Z"
    }
   },
   "outputs": [],
   "source": []
  },
  {
   "cell_type": "code",
   "execution_count": 9,
   "id": "af79850f-83b5-49c4-a3f3-f2c01a28f458",
   "metadata": {
    "ExecuteTime": {
     "end_time": "2024-07-27T05:52:43.305792Z",
     "start_time": "2024-07-27T05:52:43.285127800Z"
    }
   },
   "outputs": [],
   "source": []
  },
  {
   "cell_type": "markdown",
   "id": "63ae05bd-872c-4638-8259-df4f420aaa1d",
   "metadata": {},
   "source": [
    "### 使用 GPT-4V 识别本地图像文件（Base64编码）\n"
   ]
  },
  {
   "cell_type": "code",
   "execution_count": 1,
   "id": "1e83da68-d387-46da-8236-78fc607d1fab",
   "metadata": {
    "ExecuteTime": {
     "end_time": "2024-07-27T06:15:42.675767100Z",
     "start_time": "2024-07-27T06:15:41.144986100Z"
    }
   },
   "outputs": [],
   "source": [
    "from openai import OpenAI\n",
    "import base64\n",
    "import requests\n",
    "import json\n",
    "\n",
    "client = OpenAI()  # 初始化 OpenAI 客户端\n",
    "\n",
    "def query_base64_image_description(image_path, prompt=\"解释下图里的内容？\", max_tokens=1000):\n",
    "\n",
    "    # 实现 Base64 编码\n",
    "    def encode_image(path):\n",
    "        with open(path, \"rb\") as image_file:\n",
    "            return base64.b64encode(image_file.read()).decode('utf-8')\n",
    "\n",
    "    # 获取图像的 Base64 编码字符串\n",
    "    base64_image = encode_image(image_path)\n",
    "\n",
    "    # 构造请求的 HTTP Header\n",
    "    headers = {\n",
    "        \"Content-Type\": \"application/json\",\n",
    "        \"Authorization\": f\"Bearer {client.api_key}\"\n",
    "    }\n",
    "\n",
    "    # 构造请求的负载\n",
    "    payload = {\n",
    "        \"model\": \"gpt-4-turbo\",\n",
    "        \"messages\": [\n",
    "            {\n",
    "                \"role\": \"user\",\n",
    "                \"content\": [\n",
    "                    {\"type\": \"text\", \"text\": prompt},\n",
    "                    {\"type\": \"image_url\", \"image_url\": {\"url\": f\"data:image/jpeg;base64,{base64_image}\"}}\n",
    "                ]\n",
    "            }\n",
    "        ],\n",
    "        \"max_tokens\": max_tokens\n",
    "    }\n",
    "\n",
    "    # 发送 HTTP 请求\n",
    "    response = requests.post(\"https://api.openai.com/v1/chat/completions\", headers=headers, json=payload)\n",
    "\n",
    "    # 检查响应并提取所需的 content 字段\n",
    "    if response.status_code == 200:\n",
    "        response_data = response.json()\n",
    "        content = response_data['choices'][0]['message']['content']\n",
    "        return content\n",
    "    else:\n",
    "        return f\"Error: {response.status_code}, {response.text}\""
   ]
  },
  {
   "cell_type": "markdown",
   "id": "89dd0f99-8086-473f-80a4-497e6dd07c17",
   "metadata": {},
   "source": [
    "#### 使用 Assistants API生成的 GDP 40年对比曲线图\n",
    "\n",
    "![gdp_data](./images/gdp_1980_2020.jpg)"
   ]
  },
  {
   "cell_type": "code",
   "execution_count": 11,
   "id": "3c0e9063-e8d9-4bc1-ae60-ad0aa5bee32b",
   "metadata": {
    "ExecuteTime": {
     "end_time": "2024-07-27T05:53:13.073241Z",
     "start_time": "2024-07-27T05:52:56.710624800Z"
    }
   },
   "outputs": [
    {
     "name": "stdout",
     "output_type": "stream",
     "text": [
      "该图为1980年至2020年间美国、中国、日本和德国的国内生产总值（GDP）比较图。\n",
      "\n",
      "1. **美国（蓝色线）**：展示了美国GDP从1980年以后的持续和稳定增长。从图中可以看出，美国经济总体保持上升趋势，至2020年接近20万亿美元。\n",
      "\n",
      "2. **中国（红色线）**：从1980年的低起点开始，中国的GDP增长非常显著，特别是2000年之后增长速度加快，到2020年几乎达到了15万亿美元，几乎接近美国。\n",
      "\n",
      "3. **日本（紫色线）**：日本的GDP在1980年代和1990年代初期增长迅速，但在1990年代中后期达到高峰后增长放缓，之后基本保持平稳，在5万亿美元到6万亿美元之间波动。\n",
      "\n",
      "4. **德国（绿色线）**：德国的GDP增长比较平稳，总体呈缓慢上升趋势，到2020年接近4万亿美元。\n",
      "\n",
      "总的来说，这幅图表展示了这四个经济体在过去40年的经济表现，其中中国的快速增长尤为引人注目，而美国则保持了较高的经济总量和稳定增长。日本和德国的经济增长相对较为平缓。\n"
     ]
    }
   ],
   "source": [
    "content = query_base64_image_description(\"./images/gdp_1980_2020.jpg\")\n",
    "print(content)"
   ]
  },
  {
   "cell_type": "markdown",
   "id": "6d18b227-32a6-4450-86bd-c99ad5c533b9",
   "metadata": {},
   "source": [
    "#### 使用 GPT-4V 识别手写体笔记\n",
    "\n",
    "![](./images/handwriting_0.jpg)"
   ]
  },
  {
   "cell_type": "code",
   "execution_count": 14,
   "id": "4193fa11-5edd-404c-9472-0cb8cc6799fc",
   "metadata": {
    "ExecuteTime": {
     "end_time": "2024-07-27T05:59:16.686471500Z",
     "start_time": "2024-07-27T05:58:39.871550300Z"
    }
   },
   "outputs": [
    {
     "name": "stdout",
     "output_type": "stream",
     "text": [
      "这张图片显示的是一本笔记本上关于自然语言处理技术的笔记。内容主要涉及几种不同的调优方法用于预训练语言模型，如Prompt Tuning、Prefix Tuning，以及LoRA调整技术。\n",
      "\n",
      "具体来说：\n",
      "1. **Prompt Tuning（提示调整）**：这种方法通常用于相对较小的模型，通过在输入端增加一些固定的标记（tokens），帮助模型更好地理解和处理任务。笔记中提到的 `X = [X1, X2, ..., Xn]` 表示输入的嵌入向量，`W` 和 `X'` 分别表示权重和转换后的输入向量。\n",
      "\n",
      "2. **Prefix Tuning（前缀调整）**：这种技术通过在模型输入的序列前面加上一系列固定的向量（即前缀）来影响模型的行为，使得模型输出 `Y` 由 `W` 和通过前缀向量修改后的 `X` 计算得出。\n",
      "\n",
      "3. **LoRA（Low-Rank Adaptation，低秩适应）**：这是一种通过修改模型的权重来进行调整的方法。它通过添加微小的矩阵调整来改变原有模型的权重矩阵 `W`。这里的 `ΔW = A·B` 表示权重的增量，其中 `A` 和 `B` 是低秩矩阵，用于减少参数数量并节省计算资源。\n",
      "\n",
      "笔记还提到了几个实际的存储需求比较，如LoRA和其它技术在处理模型时所需的存储空间。\n",
      "\n",
      "这些内容显示了深度学习和自然语言处理领域中的一些先进技术和策略。\n"
     ]
    }
   ],
   "source": [
    "content = query_base64_image_description(\"./images/handwriting_0.jpg\")\n",
    "print(content)"
   ]
  },
  {
   "cell_type": "markdown",
   "id": "ca046601-018c-455c-ace2-41392cbda456",
   "metadata": {},
   "source": [
    "#### 在 Jupyter 标准输出中渲染 Markdown 格式内容"
   ]
  },
  {
   "cell_type": "code",
   "execution_count": 15,
   "id": "516ee35b-1337-4b22-aea2-ee0adb706098",
   "metadata": {
    "ExecuteTime": {
     "end_time": "2024-07-27T06:02:32.113422700Z",
     "start_time": "2024-07-27T06:02:32.091449Z"
    }
   },
   "outputs": [
    {
     "data": {
      "text/plain": "<IPython.core.display.Markdown object>",
      "text/markdown": "这张图片显示的是一本笔记本上关于自然语言处理技术的笔记。内容主要涉及几种不同的调优方法用于预训练语言模型，如Prompt Tuning、Prefix Tuning，以及LoRA调整技术。\n\n具体来说：\n1. **Prompt Tuning（提示调整）**：这种方法通常用于相对较小的模型，通过在输入端增加一些固定的标记（tokens），帮助模型更好地理解和处理任务。笔记中提到的 `X = [X1, X2, ..., Xn]` 表示输入的嵌入向量，`W` 和 `X'` 分别表示权重和转换后的输入向量。\n\n2. **Prefix Tuning（前缀调整）**：这种技术通过在模型输入的序列前面加上一系列固定的向量（即前缀）来影响模型的行为，使得模型输出 `Y` 由 `W` 和通过前缀向量修改后的 `X` 计算得出。\n\n3. **LoRA（Low-Rank Adaptation，低秩适应）**：这是一种通过修改模型的权重来进行调整的方法。它通过添加微小的矩阵调整来改变原有模型的权重矩阵 `W`。这里的 `ΔW = A·B` 表示权重的增量，其中 `A` 和 `B` 是低秩矩阵，用于减少参数数量并节省计算资源。\n\n笔记还提到了几个实际的存储需求比较，如LoRA和其它技术在处理模型时所需的存储空间。\n\n这些内容显示了深度学习和自然语言处理领域中的一些先进技术和策略。"
     },
     "metadata": {},
     "output_type": "display_data"
    }
   ],
   "source": [
    "from IPython.display import display, Markdown\n",
    "\n",
    "# 使用 display 和 Markdown 函数显示 Markdown 内容\n",
    "display(Markdown(content))"
   ]
  },
  {
   "cell_type": "markdown",
   "id": "b72ebbe3-87cc-4867-9cf0-62e5ed684482",
   "metadata": {},
   "source": [
    "![](./images/handwriting_1.jpg)"
   ]
  },
  {
   "cell_type": "code",
   "execution_count": 16,
   "id": "7c046958-aa7a-4066-88fa-4134869d9226",
   "metadata": {
    "ExecuteTime": {
     "end_time": "2024-07-27T06:03:05.790173Z",
     "start_time": "2024-07-27T06:02:44.282790600Z"
    }
   },
   "outputs": [
    {
     "data": {
      "text/plain": "<IPython.core.display.Markdown object>",
      "text/markdown": "这张图片显示的是一份笔记，内容关注于计算机科学中的自然语言处理（NLP），特别是关于变换模型（Transformers）、调整技术和最新方法。这里面包括了一系列的技术和方法名，如：\n\n1. **PEFT/SOTA 和 PBFT Methods** - 这些可能是针对特定模型或任务的前沿技术或方法。\n2. **Prompt Tuning** - 提到了不同类型的 Prompt Tuning 方法, 如:\n   - **Adapter (2019, Google)**\n   - **Prefix (2021, Stanford)**\n   - **Prompt (2021, Google)**\n   - **P-Tuning V1/V2 (2021)**\n   - **Soft Prompts (2021)**\n   - **Hand Prompts - template-based**\n\n3. **Instruction Tuning** - 指导型调整技术，可能用于改进语言模型。\n4. **LoRA, PETC, I3** - 这些也是最新的调整技术或模型改进手段。\n\n右侧笔记提到：\n- **多模态指令微调 (Multi-modality Instruction FT)**，以及**LLaMA（LLaMA(3B)）**\n- **Adaptors和Prefix-tuning的比较**\n- **MAM Adaptors** - 一个可能是模型扩展方法，强调缩放并行和优化结果。\n\n这些内容涵盖了多种先进技术，专门用于改善或自定义大型语言模型（LLMs）的性能，使其更适合特定的应用或任务。"
     },
     "metadata": {},
     "output_type": "display_data"
    }
   ],
   "source": [
    "content = query_base64_image_description(\"./images/handwriting_1.jpg\")\n",
    "display(Markdown(content))"
   ]
  },
  {
   "cell_type": "code",
   "execution_count": 16,
   "id": "156a0f17-cca8-4f01-9ce5-53384b5ffda4",
   "metadata": {
    "ExecuteTime": {
     "end_time": "2024-07-27T06:03:55.922469Z",
     "start_time": "2024-07-27T06:03:55.903955900Z"
    }
   },
   "outputs": [],
   "source": []
  },
  {
   "cell_type": "code",
   "execution_count": 16,
   "id": "e3bd772f-9492-4f6c-b05a-666b772ca3c9",
   "metadata": {
    "ExecuteTime": {
     "end_time": "2024-07-27T06:03:56.999050700Z",
     "start_time": "2024-07-27T06:03:56.979645600Z"
    }
   },
   "outputs": [],
   "source": []
  },
  {
   "cell_type": "code",
   "execution_count": 16,
   "id": "8afdeacb-aac1-4692-be2b-fb7957ba5e8f",
   "metadata": {
    "ExecuteTime": {
     "end_time": "2024-07-27T06:03:57.691915900Z",
     "start_time": "2024-07-27T06:03:57.666391Z"
    }
   },
   "outputs": [],
   "source": []
  },
  {
   "cell_type": "markdown",
   "id": "79a8d459-d98e-4215-9fbf-38ad37080475",
   "metadata": {},
   "source": [
    "## Homework: \n",
    "\n",
    "\n",
    "### #1\n",
    "\n",
    "使用 GPT-4V 识别带有手写体文字的本地图像文件，分享结果。\n",
    "![](./images/gpt-4v.jpg)\n",
    "\n",
    "### #2\n",
    "\n",
    "整合 `query_base64_image_description` 函数和 Markdown 格式渲染方法，使得输出结果更易阅读。"
   ]
  },
  {
   "cell_type": "code",
   "execution_count": 18,
   "id": "0909bf27-9c4a-498c-9fae-0f442062b9a8",
   "metadata": {
    "ExecuteTime": {
     "end_time": "2024-07-27T06:05:19.108359500Z",
     "start_time": "2024-07-27T06:04:56.168574Z"
    }
   },
   "outputs": [
    {
     "data": {
      "text/plain": "<IPython.core.display.Markdown object>",
      "text/markdown": "这张图片展示的是一段关于统计物理或热力学中的数学理论部分的说明。内容大致介绍了一个系统的能量变化模型，包含数学表达式和理论推导。具体分为几个部分：\n\n1. 初始条件和假设。 \n   - 初态时刻 \\( t = T_0 \\)，系统的能量为 \\( E(x_0) \\)。\n   - 对于 \\( t = kT \\) 时刻， \\( k \\) 在区间 \\( (0,1) \\) 内，且 \\( k \\) 可以是非整数。\n   - 描述了能量在状态 \\( x_t \\) 和 \\( x_{t+1} \\) 之间的变化量 \\( \\Delta E = E(x_{t+1}) - E(x_t) \\)。\n\n2. 能量变化的模型。\n   - 提及了当 \\( \\Delta E < 0 \\) 时，状态变化符合一定概率分布，特定形式为 \\( e^{-\\Delta E / kT} \\)，这是统计物理学中常见的 Boltzmann 分布式描述。\n\n3. 概率的计算和使用。\n   - 在模型中，使用了特定的概率计算方法来估算在不同能量状态之间的转换概率。\n\n从文中内容看，这可能是从一本高等物理学或统计力学的教材中摘录的一部分，专门讨论系统状态之间的转换和相应的能量变化，这是这些领域研究中的一个基本问题。"
     },
     "metadata": {},
     "output_type": "display_data"
    }
   ],
   "source": [
    "from IPython.display import display, Markdown\n",
    "def display_image_description(image_path, prompt=\"解释下图里的内容？\", max_tokens=1000):\n",
    "    content = query_base64_image_description(image_path, prompt, max_tokens)\n",
    "    display(Markdown(content))\n",
    "\n",
    "# Describe the image\n",
    "display_image_description(\"./images/gpt-4v.jpg\")"
   ]
  },
  {
   "cell_type": "code",
   "execution_count": 2,
   "outputs": [
    {
     "data": {
      "text/plain": "<IPython.core.display.Markdown object>",
      "text/markdown": "图中描述的是模拟退火算法的基本步骤和计算过程。模拟退火算法是一种概率性算法，用于求解全局优化问题，其灵感来源于材料科学中金属退火的过程。以下是对算法的基本描述：\n\n1. 初始化温度为 \\( T_0 \\)（一开始的高温），并设置当前解为随机生成的初始解 \\( x_0 \\)，计算该解的目标函数值 \\( E(x_0) \\)。\n\n2. 在每一次迭代中，降低温度 \\( T \\) 直到 \\( T \\) 达到终止温度 \\( T_f \\)，过程中重复以下步骤：\n   - 随机生成一个新的解 \\( x_{t+1} \\)，通常通过在当前解 \\( x_t \\) 基础上进行小的随机扰动来实现。\n   - 计算新解 \\( x_{t+1} \\) 的目标函数值 \\( E(x_{t+1}) \\)。\n   - 计算目标函数值的变化 \\(\\Delta E = E(x_{t+1}) - E(x_t)\\)。\n   - 如果 \\(\\Delta E < 0\\)，即新解比当前解更优，接受新解为当前解。\n   - 如果 \\(\\Delta E \\geq 0\\)，则以一定的概率 \\( e^{-\\Delta E / kT} \\) 接受较差的解作为当前解，这里 \\( k \\) 是控制参数。\n\n3. 逐步降低温度 \\( T \\) 并重复上述步骤直到温度低于预设的终止温度 \\( T_f \\)，通常 \\( T \\) 的更新通过乘以一个冷却因子来进行（例如乘以 0.9）。\n\n4. 输出当前解 \\( x_t \\) 作为问题的解。\n\n图中还提到了关于如何选择初始温度、冷却率、终止温度以及迭代次数，这些都是实施模拟退火算法时的重要参数选择。通过适当调整这些参数，可以影响算法的收敛性和求解质量。"
     },
     "metadata": {},
     "output_type": "display_data"
    }
   ],
   "source": [
    "# Describe the image with a custom prompt\n",
    "display_image_description(\"./images/gpt-4v.jpg\", prompt=\"请说出图中描述的算法和推导过程\")"
   ],
   "metadata": {
    "collapsed": false,
    "ExecuteTime": {
     "end_time": "2024-07-27T06:17:31.094842200Z",
     "start_time": "2024-07-27T06:16:40.955532100Z"
    }
   },
   "id": "1f393a1641b8c025"
  },
  {
   "cell_type": "code",
   "execution_count": null,
   "outputs": [],
   "source": [],
   "metadata": {
    "collapsed": false
   },
   "id": "97c5395ac314d66d"
  }
 ],
 "metadata": {
  "kernelspec": {
   "name": "openai-quickstart",
   "language": "python",
   "display_name": "openai-quickstart"
  },
  "language_info": {
   "codemirror_mode": {
    "name": "ipython",
    "version": 3
   },
   "file_extension": ".py",
   "mimetype": "text/x-python",
   "name": "python",
   "nbconvert_exporter": "python",
   "pygments_lexer": "ipython3",
   "version": "3.10.14"
  }
 },
 "nbformat": 4,
 "nbformat_minor": 5
}

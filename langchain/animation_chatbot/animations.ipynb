{
 "cells": [
  {
   "cell_type": "markdown",
   "id": "69032b4b-b031-4020-beb0-e8dfd22b660e",
   "metadata": {},
   "source": [
    "# LangChain 实战：房产销售聊天机器人"
   ]
  },
  {
   "cell_type": "markdown",
   "id": "0f3e2d5a-c2ff-4faf-b153-d1751c25fae0",
   "metadata": {},
   "source": [
    "## 使用 GPT-4 构造销售话术数据\n",
    "\n",
    "ChatGPT 分享链接：https://chatgpt.com/share/aaf2fa91-4f27-4a68-8075-4340f5f788fc\n",
    "\n",
    "\n",
    "使用 ChatGPT 构造销售数据的 Prompt 示例：\n",
    "\n",
    "```\n",
    "你是一个资深爱好者，能够为网友提供符合描述的动画并给出评价。请根据示例生成 10 条对话内容。\n",
    "示例如下：\n",
    "[描述] 41岁的出租车司机小户川没有家人，不太跟他人有瓜葛，没几个熟人。他的乘客都是一些怪人。跟乘客看似无关痛痒的对话当中，隐藏着一名失踪少女的线索.\n",
    "[回答] 奇巧出租车. 。作为一部不可多得的原创番，《奇巧计程车》故事结构精致，画风清奇，人物形象塑造出色。 优秀的作品总是不会只因为专精一个方面而能被称为“优秀”，《奇巧计程车》也是如此。 在近乎令人眼花缭乱的悬念叙事与各种角色的冲突中，《奇巧计程车》做到了将推理与社会关注的有机结合，讲出了众多包在推理与悬疑的外表下的社会问题。\n",
    "对话格式如下：\n",
    "[描述]\n",
    "[回答] <动画名称>. <评价>\n",
    "```\n",
    "\n",
    "GPT-4 回复结果：\n",
    "\n",
    "```\n",
    "[描述] 一群高中生意外地被传送到一个奇幻的异世界，他们需要利用自己的智慧和力量来生存，并找到回到现实世界的方法。\n",
    "[回答] Re:从零开始的异世界生活. 作为一部异世界题材的经典之作，《Re:从零开始的异世界生活》在角色塑造和情节发展上都十分出色。故事通过主人公不断的死亡与重生，让观众在悬疑和紧张中体验情感的跌宕起伏。动画的画面精美，音乐动人，是一部不可错过的佳作。\n",
    "\n",
    "[描述] 主人公是一个平凡的高中生，但在一次意外中得到了超能力，并决定利用这种能力来保护自己身边的人。\n",
    "[回答] 我的英雄学院. 这部作品通过讲述一个普通学生如何成长为英雄的过程，成功地吸引了大量观众。动画充满了激情和热血，战斗场面华丽，角色个性鲜明，特别是主人公的成长和他与朋友们的羁绊让人感动不已。\n",
    "\n",
    "[描述] 一个神秘的虚拟游戏世界中，玩家们被困其中，只有通过打败最终Boss才能逃脱。\n",
    "[回答] 刀剑神域. 这部动画不仅在游戏设定上非常吸引人，更通过紧张的情节和细腻的情感描写，让观众深深沉浸在故事中。画面精美，音乐优美，战斗场面紧张刺激，是一部不可错过的佳作。\n",
    "\n",
    "[描述] 女主角是一名高中生，能够看到鬼魂，并决定帮助这些孤独的灵魂找到安息的方法。\n",
    "[回答] 夏目友人帐. 这是一部温馨治愈的动画，讲述了人与妖怪之间的感人故事。女主角通过帮助鬼魂，逐渐了解了他们的过去与愿望，也在这个过程中成长。动画画风柔美，音乐恬静，给人带来心灵的慰藉。\n",
    "\n",
    "[描述] 世界突然遭遇神秘病毒的袭击，幸存者们需要在这个末日世界中求生，并揭开病毒的真相。\n",
    "[回答] 学园默示录. 作为一部末日题材的作品，《学园默示录》通过紧张刺激的情节和激烈的战斗场面，展现了人类在绝境中的生存斗争。虽然其中也有不少血腥和暴力的场面，但整体来说是一部引人入胜的作品。\n",
    "\n",
    "[描述] 一位失意的音乐人意外地穿越到古代，利用现代音乐知识在古代世界中展开冒险。\n",
    "[回答] 音乐鬼才. 这部动画以独特的音乐题材和穿越设定，带给观众耳目一新的体验。音乐与剧情的完美结合，让观众在欣赏动听乐曲的同时，也能感受到故事的魅力。画风精致，角色设计独特，是一部值得推荐的作品。\n",
    "\n",
    "[描述] 一群小学生组成了一个侦探团，通过解决身边的各种神秘事件，展现了他们的聪明才智。\n",
    "[回答] 名侦探柯南. 作为经典的推理动画，《名侦探柯南》以其精彩的案件设定和细腻的推理过程，深受观众喜爱。主人公江户川柯南的聪明才智和勇敢无畏，给这部作品增添了无限魅力。动画长寿但始终保持高质量，值得一看。\n",
    "\n",
    "[描述] 一位普通的高中生在机缘巧合下成为了一名魔法师，并卷入了一场古老的魔法战争中。\n",
    "[回答] 魔法科高中的劣等生. 这部作品通过精致的魔法设定和紧凑的剧情发展，成功地吸引了大量观众。主人公的强大与冷静，以及他与妹妹之间的深厚感情，成为了动画的亮点。战斗场面华丽，故事引人入胜。\n",
    "\n",
    "[描述] 一名少年在一场事故中失去了双臂，但通过与神秘的生物契约，获得了超凡的战斗能力。\n",
    "[回答] 钢之炼金术师. 这部动画以其深刻的剧情和复杂的人物关系，赢得了无数观众的喜爱。主人公通过不断的冒险和成长，展现了勇气与智慧。动画画风精美，战斗场面震撼，是一部经典之作。\n",
    "\n",
    "[描述] 在一个被巨型怪物威胁的世界中，人类生活在高墙之内，一支精英部队负责抵抗怪物的入侵。\n",
    "[回答] 进击的巨人. 这部作品通过紧张刺激的剧情和震撼人心的战斗场面，成功地吸引了大量观众。主人公艾伦的成长与觉醒，以及他与伙伴们的羁绊，成为了故事的核心。动画画风独特，音乐震撼，是一部不容错过的佳作。\n",
    "```\n",
    "\n",
    "\n",
    "## 使用 Document Transformers 模块来处理原始数据\n",
    "\n",
    "\n",
    "将 ChatGPT 生成的结果保存到 [real_estate_animations_data.txt](real_estate_animations_data.txt) 文件中"
   ]
  },
  {
   "cell_type": "code",
   "execution_count": 2,
   "id": "efcee928-b9f4-4e4a-b9fb-f6cbee21b642",
   "metadata": {
    "ExecuteTime": {
     "end_time": "2024-07-27T08:53:18.506351900Z",
     "start_time": "2024-07-27T08:53:18.476076800Z"
    }
   },
   "outputs": [],
   "source": [
    "with open(\"real_estate_animations_data.txt\", encoding='utf-8') as f:\n",
    "    real_estate_animations = f.read()"
   ]
  },
  {
   "cell_type": "markdown",
   "id": "a9119556-d2e3-4edf-be16-15837da156f1",
   "metadata": {
    "jupyter": {
     "source_hidden": true
    }
   },
   "source": [
    "### 使用 CharacterTextSplitter 来进行文本分割\n",
    "\n",
    "- 基于单字符来进行文本分割（separator）\n",
    "- 基于字符数来决定文本块长度（chunk_size）\n",
    "\n",
    "参考示例：\n",
    "\n",
    "```python\n",
    "from langchain.text_splitter import CharacterTextSplitter\n",
    "text_splitter = CharacterTextSplitter(        \n",
    "    separator = \"\\n\\n\",\n",
    "    chunk_size = 1000,\n",
    "    chunk_overlap  = 200,\n",
    "    length_function = len,\n",
    "    is_separator_regex = False,\n",
    ")\n",
    "```\n"
   ]
  },
  {
   "cell_type": "code",
   "execution_count": 3,
   "id": "dbe535b8-2bd8-4c31-91d7-eba8aa61b3ef",
   "metadata": {
    "ExecuteTime": {
     "end_time": "2024-07-27T08:53:25.676290100Z",
     "start_time": "2024-07-27T08:53:24.928752600Z"
    }
   },
   "outputs": [],
   "source": [
    "from langchain.text_splitter import CharacterTextSplitter"
   ]
  },
  {
   "cell_type": "code",
   "execution_count": 4,
   "id": "a4f30d9b-9fc6-4860-a497-0aa8220b9284",
   "metadata": {
    "ExecuteTime": {
     "end_time": "2024-07-27T08:53:30.267646900Z",
     "start_time": "2024-07-27T08:53:30.244001Z"
    }
   },
   "outputs": [],
   "source": [
    "text_splitter = CharacterTextSplitter(        \n",
    "    separator = r'\\d+\\.',\n",
    "    chunk_size = 100,\n",
    "    chunk_overlap  = 0,\n",
    "    length_function = len,\n",
    "    is_separator_regex = True,\n",
    ")"
   ]
  },
  {
   "cell_type": "code",
   "execution_count": 5,
   "id": "530f3172-17a5-4924-ad17-284fbca422ae",
   "metadata": {
    "ExecuteTime": {
     "end_time": "2024-07-27T08:53:40.145982300Z",
     "start_time": "2024-07-27T08:53:40.075483600Z"
    }
   },
   "outputs": [
    {
     "name": "stderr",
     "output_type": "stream",
     "text": [
      "Created a chunk of size 131, which is longer than the specified 100\n",
      "Created a chunk of size 121, which is longer than the specified 100\n",
      "Created a chunk of size 108, which is longer than the specified 100\n",
      "Created a chunk of size 117, which is longer than the specified 100\n",
      "Created a chunk of size 122, which is longer than the specified 100\n",
      "Created a chunk of size 118, which is longer than the specified 100\n",
      "Created a chunk of size 120, which is longer than the specified 100\n",
      "Created a chunk of size 117, which is longer than the specified 100\n",
      "Created a chunk of size 114, which is longer than the specified 100\n",
      "Created a chunk of size 116, which is longer than the specified 100\n",
      "Created a chunk of size 119, which is longer than the specified 100\n",
      "Created a chunk of size 125, which is longer than the specified 100\n",
      "Created a chunk of size 119, which is longer than the specified 100\n",
      "Created a chunk of size 122, which is longer than the specified 100\n",
      "Created a chunk of size 114, which is longer than the specified 100\n",
      "Created a chunk of size 129, which is longer than the specified 100\n",
      "Created a chunk of size 114, which is longer than the specified 100\n",
      "Created a chunk of size 121, which is longer than the specified 100\n",
      "Created a chunk of size 113, which is longer than the specified 100\n",
      "Created a chunk of size 118, which is longer than the specified 100\n",
      "Created a chunk of size 115, which is longer than the specified 100\n",
      "Created a chunk of size 107, which is longer than the specified 100\n",
      "Created a chunk of size 129, which is longer than the specified 100\n",
      "Created a chunk of size 118, which is longer than the specified 100\n",
      "Created a chunk of size 120, which is longer than the specified 100\n",
      "Created a chunk of size 117, which is longer than the specified 100\n",
      "Created a chunk of size 129, which is longer than the specified 100\n",
      "Created a chunk of size 125, which is longer than the specified 100\n",
      "Created a chunk of size 119, which is longer than the specified 100\n",
      "Created a chunk of size 111, which is longer than the specified 100\n",
      "Created a chunk of size 117, which is longer than the specified 100\n",
      "Created a chunk of size 121, which is longer than the specified 100\n",
      "Created a chunk of size 118, which is longer than the specified 100\n",
      "Created a chunk of size 124, which is longer than the specified 100\n",
      "Created a chunk of size 122, which is longer than the specified 100\n",
      "Created a chunk of size 123, which is longer than the specified 100\n",
      "Created a chunk of size 110, which is longer than the specified 100\n",
      "Created a chunk of size 125, which is longer than the specified 100\n",
      "Created a chunk of size 114, which is longer than the specified 100\n",
      "Created a chunk of size 129, which is longer than the specified 100\n",
      "Created a chunk of size 121, which is longer than the specified 100\n",
      "Created a chunk of size 117, which is longer than the specified 100\n",
      "Created a chunk of size 129, which is longer than the specified 100\n",
      "Created a chunk of size 107, which is longer than the specified 100\n",
      "Created a chunk of size 117, which is longer than the specified 100\n",
      "Created a chunk of size 120, which is longer than the specified 100\n",
      "Created a chunk of size 117, which is longer than the specified 100\n",
      "Created a chunk of size 114, which is longer than the specified 100\n",
      "Created a chunk of size 119, which is longer than the specified 100\n",
      "Created a chunk of size 116, which is longer than the specified 100\n",
      "Created a chunk of size 114, which is longer than the specified 100\n",
      "Created a chunk of size 117, which is longer than the specified 100\n",
      "Created a chunk of size 115, which is longer than the specified 100\n",
      "Created a chunk of size 118, which is longer than the specified 100\n",
      "Created a chunk of size 129, which is longer than the specified 100\n",
      "Created a chunk of size 118, which is longer than the specified 100\n",
      "Created a chunk of size 119, which is longer than the specified 100\n",
      "Created a chunk of size 112, which is longer than the specified 100\n",
      "Created a chunk of size 122, which is longer than the specified 100\n",
      "Created a chunk of size 131, which is longer than the specified 100\n",
      "Created a chunk of size 117, which is longer than the specified 100\n",
      "Created a chunk of size 122, which is longer than the specified 100\n",
      "Created a chunk of size 118, which is longer than the specified 100\n",
      "Created a chunk of size 114, which is longer than the specified 100\n",
      "Created a chunk of size 120, which is longer than the specified 100\n",
      "Created a chunk of size 119, which is longer than the specified 100\n",
      "Created a chunk of size 118, which is longer than the specified 100\n",
      "Created a chunk of size 114, which is longer than the specified 100\n",
      "Created a chunk of size 129, which is longer than the specified 100\n",
      "Created a chunk of size 123, which is longer than the specified 100\n",
      "Created a chunk of size 110, which is longer than the specified 100\n",
      "Created a chunk of size 122, which is longer than the specified 100\n",
      "Created a chunk of size 114, which is longer than the specified 100\n",
      "Created a chunk of size 108, which is longer than the specified 100\n",
      "Created a chunk of size 118, which is longer than the specified 100\n",
      "Created a chunk of size 110, which is longer than the specified 100\n",
      "Created a chunk of size 121, which is longer than the specified 100\n",
      "Created a chunk of size 117, which is longer than the specified 100\n",
      "Created a chunk of size 116, which is longer than the specified 100\n",
      "Created a chunk of size 120, which is longer than the specified 100\n",
      "Created a chunk of size 114, which is longer than the specified 100\n",
      "Created a chunk of size 129, which is longer than the specified 100\n",
      "Created a chunk of size 129, which is longer than the specified 100\n",
      "Created a chunk of size 119, which is longer than the specified 100\n",
      "Created a chunk of size 117, which is longer than the specified 100\n",
      "Created a chunk of size 117, which is longer than the specified 100\n",
      "Created a chunk of size 113, which is longer than the specified 100\n",
      "Created a chunk of size 121, which is longer than the specified 100\n",
      "Created a chunk of size 114, which is longer than the specified 100\n",
      "Created a chunk of size 117, which is longer than the specified 100\n",
      "Created a chunk of size 123, which is longer than the specified 100\n",
      "Created a chunk of size 121, which is longer than the specified 100\n",
      "Created a chunk of size 120, which is longer than the specified 100\n",
      "Created a chunk of size 129, which is longer than the specified 100\n",
      "Created a chunk of size 123, which is longer than the specified 100\n",
      "Created a chunk of size 117, which is longer than the specified 100\n",
      "Created a chunk of size 110, which is longer than the specified 100\n",
      "Created a chunk of size 118, which is longer than the specified 100\n",
      "Created a chunk of size 129, which is longer than the specified 100\n",
      "Created a chunk of size 119, which is longer than the specified 100\n",
      "Created a chunk of size 188, which is longer than the specified 100\n",
      "Created a chunk of size 154, which is longer than the specified 100\n",
      "Created a chunk of size 135, which is longer than the specified 100\n",
      "Created a chunk of size 141, which is longer than the specified 100\n",
      "Created a chunk of size 146, which is longer than the specified 100\n",
      "Created a chunk of size 145, which is longer than the specified 100\n",
      "Created a chunk of size 152, which is longer than the specified 100\n",
      "Created a chunk of size 143, which is longer than the specified 100\n",
      "Created a chunk of size 137, which is longer than the specified 100\n"
     ]
    }
   ],
   "source": [
    "docs = text_splitter.create_documents([real_estate_animations])"
   ]
  },
  {
   "cell_type": "code",
   "execution_count": 6,
   "id": "3956ec36-706e-4f43-88fc-d704f2984290",
   "metadata": {
    "ExecuteTime": {
     "end_time": "2024-07-27T08:53:44.769372700Z",
     "start_time": "2024-07-27T08:53:44.723265400Z"
    }
   },
   "outputs": [
    {
     "data": {
      "text/plain": "Document(page_content='[描述] 一位少年被卷入了一个神秘的地下城市，他在这个城市中遇到了许多奇怪的生物，并决定找到回到地面的出口。\\n[回答] 地海战记. 这部动画通过描绘一个充满幻想与冒险的地下世界，成功地吸引了观众的眼球。故事紧凑，角色丰富，画风独特，给人一种别样的奇幻体验。')"
     },
     "execution_count": 6,
     "metadata": {},
     "output_type": "execute_result"
    }
   ],
   "source": [
    "docs[0]"
   ]
  },
  {
   "cell_type": "code",
   "execution_count": 7,
   "id": "73b2d47a-27ae-4cd4-a72a-3809b4c22bff",
   "metadata": {
    "ExecuteTime": {
     "end_time": "2024-07-27T08:53:57.551872500Z",
     "start_time": "2024-07-27T08:53:57.538868300Z"
    }
   },
   "outputs": [
    {
     "data": {
      "text/plain": "110"
     },
     "execution_count": 7,
     "metadata": {},
     "output_type": "execute_result"
    }
   ],
   "source": [
    "len(docs)"
   ]
  },
  {
   "cell_type": "markdown",
   "id": "e4617858-ad9c-42eb-a4c3-6bfb7108cdd2",
   "metadata": {},
   "source": [
    "### 使用 Faiss 作为向量数据库，持久化存储房产销售 问答对（QA-Pair）"
   ]
  },
  {
   "cell_type": "code",
   "execution_count": 9,
   "id": "508c2ab2-e187-424f-a43c-ca3d3b1a0550",
   "metadata": {
    "ExecuteTime": {
     "end_time": "2024-07-27T08:54:46.677824300Z",
     "start_time": "2024-07-27T08:54:26.532390600Z"
    }
   },
   "outputs": [],
   "source": [
    "from langchain.embeddings.openai import OpenAIEmbeddings\n",
    "from langchain.text_splitter import CharacterTextSplitter\n",
    "from langchain.vectorstores import FAISS\n",
    "\n",
    "db = FAISS.from_documents(docs, OpenAIEmbeddings())"
   ]
  },
  {
   "cell_type": "code",
   "execution_count": 10,
   "id": "250e0873-95e2-4372-98a5-68c0feb304bb",
   "metadata": {
    "ExecuteTime": {
     "end_time": "2024-07-27T08:55:12.795009500Z",
     "start_time": "2024-07-27T08:55:12.771868500Z"
    }
   },
   "outputs": [],
   "source": [
    "query = \"虚拟游戏, 玩家被困\""
   ]
  },
  {
   "cell_type": "code",
   "execution_count": 11,
   "id": "0d18fcc6-c2be-434b-b8de-9648ac6f83f4",
   "metadata": {
    "ExecuteTime": {
     "end_time": "2024-07-27T08:55:16.302680500Z",
     "start_time": "2024-07-27T08:55:15.125270600Z"
    }
   },
   "outputs": [],
   "source": [
    "answer_list = db.similarity_search(query)"
   ]
  },
  {
   "cell_type": "code",
   "execution_count": 12,
   "id": "e689667e-7a45-40d6-9eae-4e52cbc7daab",
   "metadata": {
    "ExecuteTime": {
     "end_time": "2024-07-27T08:55:17.710634800Z",
     "start_time": "2024-07-27T08:55:17.674064500Z"
    }
   },
   "outputs": [
    {
     "name": "stdout",
     "output_type": "stream",
     "text": [
      "[描述] 一个神秘的虚拟游戏世界中，玩家们被困其中，只有通过打败最终Boss才能逃脱。\n",
      "[回答] 刀剑神域. 这部动画不仅在游戏设定上非常吸引人，更通过紧张的情节和细腻的情感描写，让观众深深沉浸在故事中。画面精美，音乐优美，战斗场面紧张刺激，是一部不可错过的佳作。\n",
      "\n",
      "[描述] 一位少年被卷入了一个神秘的地下城市，他在这个城市中遇到了许多奇怪的生物，并决定找到回到地面的出口。\n",
      "[回答] 地海战记. 这部动画通过描绘一个充满幻想与冒险的地下世界，成功地吸引了观众的眼球。故事紧凑，角色丰富，画风独特，给人一种别样的奇幻体验。\n",
      "\n",
      "[描述] 一位少年被卷入了一个神秘的地下城市，他在这个城市中遇到了许多奇怪的生物，并决定找到回到地面的出口。\n",
      "[回答] 地海战记. 这部动画通过描绘一个充满幻想与冒险的地下世界，成功地吸引了观众的眼球。故事紧凑，角色丰富，画风独特，给人一种别样的奇幻体验。\n",
      "\n",
      "[描述] 在一个被巨型怪物威胁的世界中，人类生活在高墙之内，一支精英部队负责抵抗怪物的入侵。\n",
      "[回答] 进击的巨人. 这部作品通过紧张刺激的剧情和震撼人心的战斗场面，成功地吸引了大量观众。主人公艾伦的成长与觉醒，以及他与伙伴们的羁绊，成为了故事的核心。动画画风独特，音乐震撼，是一部不容错过的佳作。\n"
     ]
    }
   ],
   "source": [
    "for ans in answer_list:\n",
    "    print(ans.page_content + \"\\n\")"
   ]
  },
  {
   "cell_type": "code",
   "execution_count": 13,
   "id": "a6cc47bf-1566-472f-84d2-a46bd634907c",
   "metadata": {
    "ExecuteTime": {
     "end_time": "2024-07-27T08:55:37.374801300Z",
     "start_time": "2024-07-27T08:55:37.339731Z"
    }
   },
   "outputs": [],
   "source": [
    "db.save_local(\"real_estates_animation\")"
   ]
  },
  {
   "cell_type": "markdown",
   "id": "0d5323e5-03fa-4c1c-b896-3ccc28af1857",
   "metadata": {},
   "source": [
    "### 使用 retriever 从向量数据库中获取结果\n",
    "\n",
    "#### 使用参数 `k` 指定返回结果数量\n"
   ]
  },
  {
   "cell_type": "code",
   "execution_count": 14,
   "id": "17f051c9-8676-48d1-a9a4-e69b52630faf",
   "metadata": {
    "ExecuteTime": {
     "end_time": "2024-07-27T08:55:57.767628400Z",
     "start_time": "2024-07-27T08:55:57.754382200Z"
    }
   },
   "outputs": [],
   "source": [
    "# 实例化一个 TopK Retriever\n",
    "topK_retriever = db.as_retriever(search_kwargs={\"k\": 3})"
   ]
  },
  {
   "cell_type": "code",
   "execution_count": 15,
   "id": "e33024db-ca7b-4d68-9b0e-c31c15ded57d",
   "metadata": {
    "ExecuteTime": {
     "end_time": "2024-07-27T08:56:01.073702200Z",
     "start_time": "2024-07-27T08:56:01.058275700Z"
    }
   },
   "outputs": [
    {
     "data": {
      "text/plain": "VectorStoreRetriever(tags=['FAISS', 'OpenAIEmbeddings'], vectorstore=<langchain_community.vectorstores.faiss.FAISS object at 0x0000018B0DAECBE0>, search_kwargs={'k': 3})"
     },
     "execution_count": 15,
     "metadata": {},
     "output_type": "execute_result"
    }
   ],
   "source": [
    "topK_retriever"
   ]
  },
  {
   "cell_type": "code",
   "execution_count": 16,
   "id": "7efb1414-859f-4818-bacd-e1e2edf34b95",
   "metadata": {
    "ExecuteTime": {
     "end_time": "2024-07-27T08:56:07.221520300Z",
     "start_time": "2024-07-27T08:56:06.288093300Z"
    }
   },
   "outputs": [
    {
     "name": "stderr",
     "output_type": "stream",
     "text": [
      "D:\\weiar2\\app\\miniconda3\\envs\\openai-quickstart\\lib\\site-packages\\langchain_core\\_api\\deprecation.py:139: LangChainDeprecationWarning: The method `BaseRetriever.get_relevant_documents` was deprecated in langchain-core 0.1.46 and will be removed in 0.3.0. Use invoke instead.\n",
      "  warn_deprecated(\n"
     ]
    },
    {
     "name": "stdout",
     "output_type": "stream",
     "text": [
      "[描述] 一个神秘的虚拟游戏世界中，玩家们被困其中，只有通过打败最终Boss才能逃脱。\n",
      "[回答] 刀剑神域. 这部动画不仅在游戏设定上非常吸引人，更通过紧张的情节和细腻的情感描写，让观众深深沉浸在故事中。画面精美，音乐优美，战斗场面紧张刺激，是一部不可错过的佳作。\n",
      "\n",
      "[描述] 一位少年被卷入了一个神秘的地下城市，他在这个城市中遇到了许多奇怪的生物，并决定找到回到地面的出口。\n",
      "[回答] 地海战记. 这部动画通过描绘一个充满幻想与冒险的地下世界，成功地吸引了观众的眼球。故事紧凑，角色丰富，画风独特，给人一种别样的奇幻体验。\n",
      "\n",
      "[描述] 一位少年被卷入了一个神秘的地下城市，他在这个城市中遇到了许多奇怪的生物，并决定找到回到地面的出口。\n",
      "[回答] 地海战记. 这部动画通过描绘一个充满幻想与冒险的地下世界，成功地吸引了观众的眼球。故事紧凑，角色丰富，画风独特，给人一种别样的奇幻体验。\n"
     ]
    }
   ],
   "source": [
    "docs = topK_retriever.get_relevant_documents(query)\n",
    "for doc in docs:\n",
    "    print(doc.page_content + \"\\n\")"
   ]
  },
  {
   "cell_type": "code",
   "execution_count": 17,
   "id": "a3c4b62d-6f8f-461b-a4fb-41c8a404b831",
   "metadata": {
    "ExecuteTime": {
     "end_time": "2024-07-27T08:56:59.542351400Z",
     "start_time": "2024-07-27T08:56:56.612210600Z"
    }
   },
   "outputs": [],
   "source": [
    "docs = topK_retriever.get_relevant_documents(\"有没有讲述机器人的动画？\")"
   ]
  },
  {
   "cell_type": "code",
   "execution_count": 19,
   "id": "04cca3d7-23d9-491f-8350-faeb19861dec",
   "metadata": {
    "ExecuteTime": {
     "end_time": "2024-07-27T08:57:59.196559300Z",
     "start_time": "2024-07-27T08:57:59.180342Z"
    }
   },
   "outputs": [
    {
     "name": "stdout",
     "output_type": "stream",
     "text": [
      "[描述] 在一个被机器人统治的世界中，人类需要通过智慧和勇气来对抗机器人的压迫。\n",
      "[回答] 机器人统治者. 这部动画通过紧张刺激的剧情和深刻的社会反思，展现了人类在绝境中的生存斗争。画风独特，战斗场面震撼，是一部引人深思的佳作。\n",
      "\n",
      "[描述] 在一个被机器人统治的世界中，人类需要通过智慧和勇气来对抗机器人的压迫。\n",
      "[回答] 机器人统治者. 这部动画通过紧张刺激的剧情和深刻的社会反思，展现了人类在绝境中的生存斗争。画风独特，战斗场面震撼，是一部引人深思的佳作。\n",
      "\n",
      "[描述] 在一个被机器人统治的世界中，人类需要通过智慧和勇气来对抗机器人的压迫。\n",
      "[回答] 机器人统治者. 这部动画通过紧张刺激的剧情和深刻的社会反思，展现了人类在绝境中的生存斗争。画风独特，战斗场面震撼，是一部引人深思的佳作。\n"
     ]
    }
   ],
   "source": [
    "for doc in docs:\n",
    "    print(doc.page_content + \"\\n\")"
   ]
  },
  {
   "cell_type": "markdown",
   "id": "b335c9e5-bc01-4a47-916c-03bec0e7a839",
   "metadata": {},
   "source": [
    "#### 使用 similarity_score_threshold 设置阈值，提升结果的相关性质量"
   ]
  },
  {
   "cell_type": "code",
   "execution_count": 24,
   "id": "b1298956-6cf3-4a68-a3c2-a3149f64f156",
   "metadata": {
    "ExecuteTime": {
     "end_time": "2024-07-27T08:58:42.785328400Z",
     "start_time": "2024-07-27T08:58:42.758378900Z"
    }
   },
   "outputs": [],
   "source": [
    "# 实例化一个 similarity_score_threshold Retriever\n",
    "retriever = db.as_retriever(\n",
    "    search_type=\"similarity_score_threshold\",\n",
    "    search_kwargs={\"score_threshold\": 0.6}\n",
    ")"
   ]
  },
  {
   "cell_type": "code",
   "execution_count": 25,
   "id": "d61167de-72ed-4618-a2e1-5df04784a3bc",
   "metadata": {
    "ExecuteTime": {
     "end_time": "2024-07-27T08:58:44.682492400Z",
     "start_time": "2024-07-27T08:58:43.590229800Z"
    }
   },
   "outputs": [
    {
     "name": "stdout",
     "output_type": "stream",
     "text": [
      "[描述] 一个神秘的虚拟游戏世界中，玩家们被困其中，只有通过打败最终Boss才能逃脱。\n",
      "[回答] 刀剑神域. 这部动画不仅在游戏设定上非常吸引人，更通过紧张的情节和细腻的情感描写，让观众深深沉浸在故事中。画面精美，音乐优美，战斗场面紧张刺激，是一部不可错过的佳作。\n",
      "\n",
      "[描述] 一位少年被卷入了一个神秘的地下城市，他在这个城市中遇到了许多奇怪的生物，并决定找到回到地面的出口。\n",
      "[回答] 地海战记. 这部动画通过描绘一个充满幻想与冒险的地下世界，成功地吸引了观众的眼球。故事紧凑，角色丰富，画风独特，给人一种别样的奇幻体验。\n",
      "\n",
      "[描述] 一位少年被卷入了一个神秘的地下城市，他在这个城市中遇到了许多奇怪的生物，并决定找到回到地面的出口。\n",
      "[回答] 地海战记. 这部动画通过描绘一个充满幻想与冒险的地下世界，成功地吸引了观众的眼球。故事紧凑，角色丰富，画风独特，给人一种别样的奇幻体验。\n",
      "\n",
      "[描述] 在一个被巨型怪物威胁的世界中，人类生活在高墙之内，一支精英部队负责抵抗怪物的入侵。\n",
      "[回答] 进击的巨人. 这部作品通过紧张刺激的剧情和震撼人心的战斗场面，成功地吸引了大量观众。主人公艾伦的成长与觉醒，以及他与伙伴们的羁绊，成为了故事的核心。动画画风独特，音乐震撼，是一部不容错过的佳作。\n"
     ]
    }
   ],
   "source": [
    "docs = retriever.get_relevant_documents(query)\n",
    "for doc in docs:\n",
    "    print(doc.page_content + \"\\n\")"
   ]
  },
  {
   "cell_type": "code",
   "execution_count": 25,
   "id": "548d1b52-6fa2-46d6-9218-908db572f380",
   "metadata": {
    "ExecuteTime": {
     "end_time": "2024-07-27T08:58:46.188978600Z",
     "start_time": "2024-07-27T08:58:46.167595Z"
    }
   },
   "outputs": [],
   "source": []
  },
  {
   "cell_type": "markdown",
   "id": "c31344ce-f952-4604-b700-fdbb34da1e28",
   "metadata": {},
   "source": [
    "### 提取向量数据库中的`销售回答`"
   ]
  },
  {
   "cell_type": "code",
   "execution_count": 26,
   "id": "25768463-da65-4762-978d-51c0c3a9c24b",
   "metadata": {
    "ExecuteTime": {
     "end_time": "2024-07-27T08:58:49.434183600Z",
     "start_time": "2024-07-27T08:58:48.310711500Z"
    }
   },
   "outputs": [],
   "source": [
    "docs = retriever.get_relevant_documents(query)"
   ]
  },
  {
   "cell_type": "code",
   "execution_count": 27,
   "id": "4838d3da-dca3-4c31-80da-cec75760a833",
   "metadata": {
    "ExecuteTime": {
     "end_time": "2024-07-27T08:58:50.449818600Z",
     "start_time": "2024-07-27T08:58:50.438800200Z"
    }
   },
   "outputs": [
    {
     "data": {
      "text/plain": "'[描述] 一个神秘的虚拟游戏世界中，玩家们被困其中，只有通过打败最终Boss才能逃脱。\\n[回答] 刀剑神域. 这部动画不仅在游戏设定上非常吸引人，更通过紧张的情节和细腻的情感描写，让观众深深沉浸在故事中。画面精美，音乐优美，战斗场面紧张刺激，是一部不可错过的佳作。'"
     },
     "execution_count": 27,
     "metadata": {},
     "output_type": "execute_result"
    }
   ],
   "source": [
    "docs[0].page_content"
   ]
  },
  {
   "cell_type": "code",
   "execution_count": 29,
   "id": "1ba30232-f468-4102-b70c-02c8b74da43d",
   "metadata": {
    "ExecuteTime": {
     "end_time": "2024-07-27T08:59:01.632456300Z",
     "start_time": "2024-07-27T08:59:01.591335700Z"
    }
   },
   "outputs": [
    {
     "data": {
      "text/plain": "['[描述] 一个神秘的虚拟游戏世界中，玩家们被困其中，只有通过打败最终Boss才能逃脱。\\n',\n '刀剑神域. 这部动画不仅在游戏设定上非常吸引人，更通过紧张的情节和细腻的情感描写，让观众深深沉浸在故事中。画面精美，音乐优美，战斗场面紧张刺激，是一部不可错过的佳作。']"
     },
     "execution_count": 29,
     "metadata": {},
     "output_type": "execute_result"
    }
   ],
   "source": [
    "docs[0].page_content.split(\"[回答] \")"
   ]
  },
  {
   "cell_type": "code",
   "execution_count": 30,
   "id": "bda8eb0c-eb1f-47b2-91ab-4c94ff71c3db",
   "metadata": {
    "ExecuteTime": {
     "end_time": "2024-07-27T08:59:06.956647300Z",
     "start_time": "2024-07-27T08:59:06.937951500Z"
    }
   },
   "outputs": [],
   "source": [
    "ans = docs[0].page_content.split(\"[回答] \")[-1]"
   ]
  },
  {
   "cell_type": "code",
   "execution_count": 31,
   "id": "917a3b6c-3149-42e2-b7b6-abebd94b7f72",
   "metadata": {
    "ExecuteTime": {
     "end_time": "2024-07-27T08:59:08.379644600Z",
     "start_time": "2024-07-27T08:59:08.367707800Z"
    }
   },
   "outputs": [
    {
     "data": {
      "text/plain": "'刀剑神域. 这部动画不仅在游戏设定上非常吸引人，更通过紧张的情节和细腻的情感描写，让观众深深沉浸在故事中。画面精美，音乐优美，战斗场面紧张刺激，是一部不可错过的佳作。'"
     },
     "execution_count": 31,
     "metadata": {},
     "output_type": "execute_result"
    }
   ],
   "source": [
    "ans"
   ]
  },
  {
   "cell_type": "markdown",
   "id": "b36b61a5-156d-4546-bbd1-8a983e94676b",
   "metadata": {},
   "source": [
    "#### 尝试各种问题"
   ]
  },
  {
   "cell_type": "code",
   "execution_count": 40,
   "id": "c311a656-e571-45d6-8690-88e4be2c2a65",
   "metadata": {
    "ExecuteTime": {
     "end_time": "2024-07-27T09:02:47.995844Z",
     "start_time": "2024-07-27T09:02:47.972329400Z"
    }
   },
   "outputs": [],
   "source": [
    "from typing import List\n",
    "\n",
    "def animations(query: str, score_threshold: float=0.8) -> List[str]:\n",
    "    retriever = db.as_retriever(search_type=\"similarity_score_threshold\", search_kwargs={\"score_threshold\": score_threshold})    \n",
    "    docs = retriever.get_relevant_documents(query)\n",
    "    ans_list = [doc.page_content.split(\"[回答] \")[-1] for doc in docs]\n",
    "\n",
    "    return ans_list"
   ]
  },
  {
   "cell_type": "code",
   "execution_count": 41,
   "id": "2f4c6c08-b97c-4727-9aa1-a474d85a11e4",
   "metadata": {
    "ExecuteTime": {
     "end_time": "2024-07-27T09:02:50.443225600Z",
     "start_time": "2024-07-27T09:02:49.636705700Z"
    }
   },
   "outputs": [
    {
     "name": "stdout",
     "output_type": "stream",
     "text": [
      "[]\n"
     ]
    },
    {
     "name": "stderr",
     "output_type": "stream",
     "text": [
      "D:\\weiar2\\app\\miniconda3\\envs\\openai-quickstart\\lib\\site-packages\\langchain_core\\vectorstores\\base.py:796: UserWarning: No relevant docs were retrieved using the relevance score threshold 0.8\n",
      "  warnings.warn(\n"
     ]
    }
   ],
   "source": [
    "query = \"蓄意推理动画，死神小学生\"\n",
    "\n",
    "print(animations(query))"
   ]
  },
  {
   "cell_type": "code",
   "execution_count": 42,
   "id": "11e3d8b6-839f-4b2f-b519-841e0271f95b",
   "metadata": {
    "ExecuteTime": {
     "end_time": "2024-07-27T09:02:55.242346200Z",
     "start_time": "2024-07-27T09:02:54.722858700Z"
    }
   },
   "outputs": [
    {
     "name": "stdout",
     "output_type": "stream",
     "text": [
      "['名侦探柯南. 作为经典的推理动画，《名侦探柯南》以其精彩的案件设定和细腻的推理过程，深受观众喜爱。主人公江户川柯南的聪明才智和勇敢无畏，给这部作品增添了无限魅力。动画长寿但始终保持高质量，值得一看。', '神秘探险队. 这部动画通过精彩的案件设定和细腻的推理过程，深受观众喜爱。主人公们的聪明才智和勇敢无畏，给这部作品增添了无限魅力。', '古老遗迹探险. 这部动画通过紧张刺激的冒险和悬疑的剧情发展，给观众带来了许多意想不到的惊喜。主角的成长和他与朋友们的关系成为故事的亮点。', '古老遗迹探险. 这部动画通过紧张刺激的冒险和悬疑的剧情发展，给观众带来了许多意想不到的惊喜。主角的成长和他与朋友们的关系成为故事的亮点。']\n"
     ]
    }
   ],
   "source": [
    "print(animations(query, 0.75))"
   ]
  },
  {
   "cell_type": "code",
   "execution_count": 43,
   "id": "fc5b030a-ae6f-4d42-9577-1420c78aecb1",
   "metadata": {
    "ExecuteTime": {
     "end_time": "2024-07-27T09:03:05.954943300Z",
     "start_time": "2024-07-27T09:03:01.939686100Z"
    }
   },
   "outputs": [
    {
     "name": "stderr",
     "output_type": "stream",
     "text": [
      "D:\\weiar2\\app\\miniconda3\\envs\\openai-quickstart\\lib\\site-packages\\langchain_core\\vectorstores\\base.py:796: UserWarning: No relevant docs were retrieved using the relevance score threshold 0.8\n",
      "  warnings.warn(\n"
     ]
    },
    {
     "name": "stdout",
     "output_type": "stream",
     "text": [
      "score:0.8 ans: []\n",
      "score:0.75 ans: ['名侦探柯南. 作为经典的推理动画，《名侦探柯南》以其精彩的案件设定和细腻的推理过程，深受观众喜爱。主人公江户川柯南的聪明才智和勇敢无畏，给这部作品增添了无限魅力。动画长寿但始终保持高质量，值得一看。', '神秘探险队. 这部动画通过精彩的案件设定和细腻的推理过程，深受观众喜爱。主人公们的聪明才智和勇敢无畏，给这部作品增添了无限魅力。']\n",
      "score:0.5 ans: ['名侦探柯南. 作为经典的推理动画，《名侦探柯南》以其精彩的案件设定和细腻的推理过程，深受观众喜爱。主人公江户川柯南的聪明才智和勇敢无畏，给这部作品增添了无限魅力。动画长寿但始终保持高质量，值得一看。', '神秘探险队. 这部动画通过精彩的案件设定和细腻的推理过程，深受观众喜爱。主人公们的聪明才智和勇敢无畏，给这部作品增添了无限魅力。', '少年侦探团. 这部动画通过精彩的案件设定和细腻的推理过程，深受观众喜爱。主人公的聪明才智和勇敢无畏，给这部作品增添了无限魅力。', '古代生存训练. 这部动画通过现代与古代的结合，让观众体验到不同文化之间的碰撞与融合。情节紧凑，角色设计独特，是一部充满冒险与智慧的作品。']\n"
     ]
    }
   ],
   "source": [
    "query = \"推理，小学生\"\n",
    "\n",
    "print(f\"score:0.8 ans: {animations(query)}\\n\")\n",
    "print(f\"score:0.75 ans: {animations(query, 0.75)}\\n\")\n",
    "print(f\"score:0.5 ans: {animations(query, 0.5)}\\n\")"
   ]
  },
  {
   "cell_type": "markdown",
   "id": "9e26e6d7-259b-4ecf-9c72-027befba4e3b",
   "metadata": {},
   "source": [
    "#### 当向量数据库中没有合适答案时，使用大语言模型能力"
   ]
  },
  {
   "cell_type": "code",
   "execution_count": 44,
   "id": "9142feb4-980a-4142-b367-1401021dceef",
   "metadata": {
    "ExecuteTime": {
     "end_time": "2024-07-27T09:03:13.606935100Z",
     "start_time": "2024-07-27T09:03:13.220531300Z"
    }
   },
   "outputs": [],
   "source": [
    "from langchain.chains import RetrievalQA\n",
    "from langchain_openai import ChatOpenAI\n",
    "\n",
    "llm = ChatOpenAI(model_name=\"gpt-4-1106-preview\", temperature=0.5)\n",
    "qa_chain = RetrievalQA.from_chain_type(llm,\n",
    "                                       retriever=db.as_retriever(search_type=\"similarity_score_threshold\",\n",
    "                                                                 search_kwargs={\"score_threshold\": 0.8}))"
   ]
  },
  {
   "cell_type": "code",
   "execution_count": 45,
   "id": "d281b560-54bb-4a25-a1dc-b23874361654",
   "metadata": {
    "ExecuteTime": {
     "end_time": "2024-07-27T09:03:24.270825Z",
     "start_time": "2024-07-27T09:03:15.581420900Z"
    }
   },
   "outputs": [
    {
     "data": {
      "text/plain": "{'query': '一部悬疑推理动画，主角是一名小学生',\n 'result': '名侦探柯南。作为经典的推理动画，《名侦探柯南》以其精彩的案件设定和细腻的推理过程，深受观众喜爱。主人公江户川柯南的聪明才智和勇敢无畏，给这部作品增添了无限魅力。动画长寿但始终保持高质量，值得一看。'}"
     },
     "execution_count": 45,
     "metadata": {},
     "output_type": "execute_result"
    }
   ],
   "source": [
    "qa_chain({\"query\": \"一部悬疑推理动画，主角是一名小学生\"})"
   ]
  },
  {
   "cell_type": "code",
   "execution_count": 46,
   "id": "c6a30dcc-fa6b-4282-935c-b07902746e19",
   "metadata": {
    "ExecuteTime": {
     "end_time": "2024-07-27T09:03:48.264067800Z",
     "start_time": "2024-07-27T09:03:27.371497500Z"
    }
   },
   "outputs": [
    {
     "name": "stderr",
     "output_type": "stream",
     "text": [
      "D:\\weiar2\\app\\miniconda3\\envs\\openai-quickstart\\lib\\site-packages\\langchain_core\\vectorstores\\base.py:796: UserWarning: No relevant docs were retrieved using the relevance score threshold 0.8\n",
      "  warnings.warn(\n"
     ]
    },
    {
     "data": {
      "text/plain": "{'query': '虚拟世界',\n 'result': '虚拟世界，通常指的是通过计算机技术创造的模拟环境，这种环境可以是完全虚构的，也可以是模仿现实世界。用户可以通过特定的界面，如虚拟现实头盔、电脑或智能手机等设备，进入并互动。在虚拟世界中，人们可以体验到游戏、社交、教育、训练和娱乐等多种活动。\\n\\n随着技术的发展，虚拟世界变得越来越逼真，提供了更加丰富和沉浸式的体验。例如，虚拟现实(VR)技术能够让用户感觉自己仿佛身处另一个世界，而增强现实(AR)技术则是在现实世界中叠加虚拟信息。\\n\\n虚拟世界的应用非常广泛，除了娱乐和游戏外，还包括教育培训、军事模拟、建筑设计、医学模拟等方面。随着互联网的普及和计算机技术的进步，虚拟世界的影响力和参与度持续增长，成为现代社会不可或缺的一部分。'}"
     },
     "execution_count": 46,
     "metadata": {},
     "output_type": "execute_result"
    }
   ],
   "source": [
    "qa_chain({\"query\": \"虚拟世界\"})"
   ]
  },
  {
   "cell_type": "code",
   "execution_count": 47,
   "id": "9da44bd6-02ef-4fb6-8e9e-7c99aeba483a",
   "metadata": {
    "ExecuteTime": {
     "end_time": "2024-07-27T09:03:52.511862400Z",
     "start_time": "2024-07-27T09:03:51.647044600Z"
    }
   },
   "outputs": [
    {
     "name": "stdout",
     "output_type": "stream",
     "text": [
      "[]\n"
     ]
    },
    {
     "name": "stderr",
     "output_type": "stream",
     "text": [
      "D:\\weiar2\\app\\miniconda3\\envs\\openai-quickstart\\lib\\site-packages\\langchain_core\\vectorstores\\base.py:796: UserWarning: No relevant docs were retrieved using the relevance score threshold 0.8\n",
      "  warnings.warn(\n"
     ]
    }
   ],
   "source": [
    "print(animations(\"虚拟世界\"))"
   ]
  },
  {
   "cell_type": "code",
   "execution_count": 47,
   "id": "9764bb10-44ed-47c9-a351-a68f4f7d4f44",
   "metadata": {
    "ExecuteTime": {
     "end_time": "2024-07-27T09:04:02.668237200Z",
     "start_time": "2024-07-27T09:04:02.661465800Z"
    }
   },
   "outputs": [],
   "source": []
  },
  {
   "cell_type": "markdown",
   "id": "0a0647e8-5b41-4c93-87c2-3240ec558717",
   "metadata": {},
   "source": [
    "## 加载 FAISS 向量数据库已有结果"
   ]
  },
  {
   "cell_type": "code",
   "execution_count": 49,
   "id": "913edd04-37ea-4c3f-9346-086aeb0ab447",
   "metadata": {
    "ExecuteTime": {
     "end_time": "2024-07-27T09:05:01.834051600Z",
     "start_time": "2024-07-27T09:05:01.437011900Z"
    }
   },
   "outputs": [],
   "source": [
    "from langchain_openai import OpenAIEmbeddings\n",
    "from langchain.vectorstores import FAISS\n",
    "\n",
    "db = FAISS.load_local(\"real_estates_animation\", OpenAIEmbeddings(), allow_dangerous_deserialization=True)"
   ]
  },
  {
   "cell_type": "code",
   "execution_count": 50,
   "id": "77d8eee4-6383-4b4a-9737-95ea9fc53b87",
   "metadata": {
    "ExecuteTime": {
     "end_time": "2024-07-27T09:05:06.304772500Z",
     "start_time": "2024-07-27T09:05:05.830605400Z"
    }
   },
   "outputs": [
    {
     "name": "stderr",
     "output_type": "stream",
     "text": [
      "D:\\weiar2\\app\\miniconda3\\envs\\openai-quickstart\\lib\\site-packages\\langchain_core\\_api\\deprecation.py:139: LangChainDeprecationWarning: The class `ChatOpenAI` was deprecated in LangChain 0.0.10 and will be removed in 0.3.0. An updated version of the class exists in the langchain-openai package and should be used instead. To use it run `pip install -U langchain-openai` and import as `from langchain_openai import ChatOpenAI`.\n",
      "  warn_deprecated(\n"
     ]
    }
   ],
   "source": [
    "from langchain.chains import RetrievalQA\n",
    "from langchain.chat_models import ChatOpenAI\n",
    "\n",
    "llm = ChatOpenAI(model_name=\"gpt-4\", temperature=0.5)\n",
    "qa_chain = RetrievalQA.from_chain_type(llm,\n",
    "                                       retriever=db.as_retriever(search_type=\"similarity_score_threshold\",\n",
    "                                                                 search_kwargs={\"score_threshold\": 0.8}))"
   ]
  },
  {
   "cell_type": "code",
   "execution_count": 51,
   "id": "5dfac197-cadb-47d7-8cbe-1b07a83fc8e1",
   "metadata": {
    "ExecuteTime": {
     "end_time": "2024-07-27T09:05:34.785742400Z",
     "start_time": "2024-07-27T09:05:25.923213500Z"
    }
   },
   "outputs": [
    {
     "data": {
      "text/plain": "{'query': '悬疑推理动画，主角是一名小学生',\n 'result': '根据给出的描述，这部悬疑推理动画是《名侦探柯南》。主角江户川柯南是一名小学生，他通过解决各种神秘案件，展现了他的聪明才智。'}"
     },
     "execution_count": 51,
     "metadata": {},
     "output_type": "execute_result"
    }
   ],
   "source": [
    "qa_chain({\"query\": \"悬疑推理动画，主角是一名小学生\"})"
   ]
  },
  {
   "cell_type": "code",
   "execution_count": 52,
   "id": "fc393afc-06d3-4483-bd24-efe000ef5f2a",
   "metadata": {
    "ExecuteTime": {
     "end_time": "2024-07-27T09:05:47.582014200Z",
     "start_time": "2024-07-27T09:05:47.557063200Z"
    }
   },
   "outputs": [],
   "source": [
    "# 输出内部 Chain 的日志\n",
    "qa_chain.combine_documents_chain.verbose = True"
   ]
  },
  {
   "cell_type": "code",
   "execution_count": 53,
   "id": "013c313a-5e7c-48d1-8ed4-eee96e50a99c",
   "metadata": {
    "ExecuteTime": {
     "end_time": "2024-07-27T09:06:22.320301900Z",
     "start_time": "2024-07-27T09:06:08.822046500Z"
    }
   },
   "outputs": [
    {
     "name": "stdout",
     "output_type": "stream",
     "text": [
      "\n",
      "\n",
      "\u001B[1m> Entering new StuffDocumentsChain chain...\u001B[0m\n",
      "\n",
      "\u001B[1m> Finished chain.\u001B[0m\n"
     ]
    },
    {
     "data": {
      "text/plain": "{'query': '悬疑推理动画，主角是一名小学生',\n 'result': '《名侦探柯南》是一部悬疑推理动画，主角江户川柯南（实际上是高中生工藤新一）因为服用了神秘药物而变成了小学生的身体。在新的身份下，他继续解决各种神秘案件，展现了他的聪明才智。这部动画以其精彩的案件设定和细腻的推理过程，深受观众喜爱。'}"
     },
     "execution_count": 53,
     "metadata": {},
     "output_type": "execute_result"
    }
   ],
   "source": [
    "qa_chain({\"query\": \"悬疑推理动画，主角是一名小学生\"})"
   ]
  },
  {
   "cell_type": "code",
   "execution_count": 54,
   "id": "e5fb0943-ffe9-4270-8dbe-f5f5314e6042",
   "metadata": {
    "ExecuteTime": {
     "end_time": "2024-07-27T09:06:31.780407700Z",
     "start_time": "2024-07-27T09:06:31.766245800Z"
    }
   },
   "outputs": [],
   "source": [
    "# 返回向量数据库的检索结果\n",
    "qa_chain.return_source_documents = True"
   ]
  },
  {
   "cell_type": "code",
   "execution_count": 55,
   "id": "fbc1741e-d34f-4df5-874b-02b78e8cd67a",
   "metadata": {
    "ExecuteTime": {
     "end_time": "2024-07-27T09:06:42.873318400Z",
     "start_time": "2024-07-27T09:06:32.794309Z"
    }
   },
   "outputs": [
    {
     "name": "stdout",
     "output_type": "stream",
     "text": [
      "\n",
      "\n",
      "\u001B[1m> Entering new StuffDocumentsChain chain...\u001B[0m\n",
      "\n",
      "\u001B[1m> Finished chain.\u001B[0m\n"
     ]
    }
   ],
   "source": [
    "result = qa_chain({\"query\": \"悬疑推理动画，主角是一名小学生\"})"
   ]
  },
  {
   "cell_type": "code",
   "execution_count": 56,
   "id": "fac8309c-033c-4144-ada0-08e74fa9bf2d",
   "metadata": {
    "ExecuteTime": {
     "end_time": "2024-07-27T09:06:49.416414600Z",
     "start_time": "2024-07-27T09:06:49.377274600Z"
    }
   },
   "outputs": [
    {
     "data": {
      "text/plain": "{'query': '悬疑推理动画，主角是一名小学生',\n 'result': '这部动画叫做《名侦探柯南》。主人公是一名聪明才智的小学生江户川柯南，他通过解决各种神秘事件展现了他的智慧和勇气。这部动画以其精彩的案件设定和细腻的推理过程，深受观众喜爱。',\n 'source_documents': [Document(page_content='[描述] 一群小学生组成了一个侦探团，通过解决身边的各种神秘事件，展现了他们的聪明才智。\\n[回答] 名侦探柯南. 作为经典的推理动画，《名侦探柯南》以其精彩的案件设定和细腻的推理过程，深受观众喜爱。主人公江户川柯南的聪明才智和勇敢无畏，给这部作品增添了无限魅力。动画长寿但始终保持高质量，值得一看。'),\n  Document(page_content='[描述] 主人公是一名年轻的侦探，他通过解决各种神秘案件，逐渐揭开了自己身世的谜团。\\n[回答] 少年侦探团. 这部动画通过精彩的案件设定和细腻的推理过程，深受观众喜爱。主人公的聪明才智和勇敢无畏，给这部作品增添了无限魅力。'),\n  Document(page_content='[描述] 主人公是一名年轻的侦探，他通过解决各种神秘案件，逐渐揭开了自己身世的谜团。\\n[回答] 少年侦探团. 这部动画通过精彩的案件设定和细腻的推理过程，深受观众喜爱。主人公的聪明才智和勇敢无畏，给这部作品增添了无限魅力。'),\n  Document(page_content='[描述] 主人公是一名年轻的侦探，他通过解决各种神秘案件，逐渐揭开了自己身世的谜团。\\n[回答] 少年侦探团. 这部动画通过精彩的案件设定和细腻的推理过程，深受观众喜爱。主人公的聪明才智和勇敢无畏，给这部作品增添了无限魅力。')]}"
     },
     "execution_count": 56,
     "metadata": {},
     "output_type": "execute_result"
    }
   ],
   "source": [
    "result"
   ]
  },
  {
   "cell_type": "code",
   "execution_count": null,
   "id": "37de84df-999f-4469-9bbe-de9c95c6f6b3",
   "metadata": {},
   "outputs": [],
   "source": []
  }
 ],
 "metadata": {
  "kernelspec": {
   "name": "openai-quickstart",
   "language": "python",
   "display_name": "openai-quickstart"
  },
  "language_info": {
   "codemirror_mode": {
    "name": "ipython",
    "version": 3
   },
   "file_extension": ".py",
   "mimetype": "text/x-python",
   "name": "python",
   "nbconvert_exporter": "python",
   "pygments_lexer": "ipython3",
   "version": "3.10.14"
  }
 },
 "nbformat": 4,
 "nbformat_minor": 5
}

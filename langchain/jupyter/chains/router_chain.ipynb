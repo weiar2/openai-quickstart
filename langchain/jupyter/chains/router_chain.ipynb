{
 "cells": [
  {
   "cell_type": "markdown",
   "id": "c3e2458f-d038-4845-93a0-d4ad830f9f90",
   "metadata": {},
   "source": [
    "# LangChain 核心模块学习：Chains\n",
    "\n",
    "对于简单的大模型应用，单独使用语言模型（LLMs）是可以的。\n",
    "\n",
    "**但更复杂的大模型应用需要将 `LLMs` 和 `Chat Models` 链接在一起 - 要么彼此链接，要么与其他组件链接。**\n",
    "\n",
    "LangChain 为这种“链式”应用程序提供了 `Chain` 接口。\n",
    "\n",
    "LangChain 以通用方式定义了 `Chain`，它是对组件进行调用序列的集合，其中可以包含其他链。"
   ]
  },
  {
   "cell_type": "code",
   "execution_count": 1,
   "id": "24efe291-8745-4e78-bdb4-648e60d7bac8",
   "metadata": {
    "ExecuteTime": {
     "end_time": "2024-07-27T07:28:49.352395300Z",
     "start_time": "2024-07-27T07:28:44.789713800Z"
    }
   },
   "outputs": [
    {
     "name": "stdout",
     "output_type": "stream",
     "text": [
      "Looking in indexes: https://pypi.tuna.tsinghua.edu.cn/simple\n",
      "Requirement already satisfied: langchain in d:\\weiar2\\app\\miniconda3\\envs\\openai-quickstart\\lib\\site-packages (0.2.11)\n",
      "Requirement already satisfied: PyYAML>=5.3 in d:\\weiar2\\app\\miniconda3\\envs\\openai-quickstart\\lib\\site-packages (from langchain) (6.0.1)\n",
      "Requirement already satisfied: SQLAlchemy<3,>=1.4 in d:\\weiar2\\app\\miniconda3\\envs\\openai-quickstart\\lib\\site-packages (from langchain) (2.0.31)\n",
      "Requirement already satisfied: aiohttp<4.0.0,>=3.8.3 in d:\\weiar2\\app\\miniconda3\\envs\\openai-quickstart\\lib\\site-packages (from langchain) (3.9.5)\n",
      "Requirement already satisfied: async-timeout<5.0.0,>=4.0.0 in d:\\weiar2\\app\\miniconda3\\envs\\openai-quickstart\\lib\\site-packages (from langchain) (4.0.3)\n",
      "Requirement already satisfied: langchain-core<0.3.0,>=0.2.23 in d:\\weiar2\\app\\miniconda3\\envs\\openai-quickstart\\lib\\site-packages (from langchain) (0.2.23)\n",
      "Requirement already satisfied: langchain-text-splitters<0.3.0,>=0.2.0 in d:\\weiar2\\app\\miniconda3\\envs\\openai-quickstart\\lib\\site-packages (from langchain) (0.2.0)\n",
      "Requirement already satisfied: langsmith<0.2.0,>=0.1.17 in d:\\weiar2\\app\\miniconda3\\envs\\openai-quickstart\\lib\\site-packages (from langchain) (0.1.93)\n",
      "Requirement already satisfied: numpy<2,>=1 in d:\\weiar2\\app\\miniconda3\\envs\\openai-quickstart\\lib\\site-packages (from langchain) (1.26.4)\n",
      "Requirement already satisfied: pydantic<3,>=1 in d:\\weiar2\\app\\miniconda3\\envs\\openai-quickstart\\lib\\site-packages (from langchain) (2.5.3)\n",
      "Requirement already satisfied: requests<3,>=2 in d:\\weiar2\\app\\miniconda3\\envs\\openai-quickstart\\lib\\site-packages (from langchain) (2.31.0)\n",
      "Requirement already satisfied: tenacity!=8.4.0,<9.0.0,>=8.1.0 in d:\\weiar2\\app\\miniconda3\\envs\\openai-quickstart\\lib\\site-packages (from langchain) (8.2.3)\n",
      "Requirement already satisfied: aiosignal>=1.1.2 in d:\\weiar2\\app\\miniconda3\\envs\\openai-quickstart\\lib\\site-packages (from aiohttp<4.0.0,>=3.8.3->langchain) (1.3.1)\n",
      "Requirement already satisfied: attrs>=17.3.0 in d:\\weiar2\\app\\miniconda3\\envs\\openai-quickstart\\lib\\site-packages (from aiohttp<4.0.0,>=3.8.3->langchain) (23.2.0)\n",
      "Requirement already satisfied: frozenlist>=1.1.1 in d:\\weiar2\\app\\miniconda3\\envs\\openai-quickstart\\lib\\site-packages (from aiohttp<4.0.0,>=3.8.3->langchain) (1.4.1)\n",
      "Requirement already satisfied: multidict<7.0,>=4.5 in d:\\weiar2\\app\\miniconda3\\envs\\openai-quickstart\\lib\\site-packages (from aiohttp<4.0.0,>=3.8.3->langchain) (6.0.5)\n",
      "Requirement already satisfied: yarl<2.0,>=1.0 in d:\\weiar2\\app\\miniconda3\\envs\\openai-quickstart\\lib\\site-packages (from aiohttp<4.0.0,>=3.8.3->langchain) (1.9.4)\n",
      "Requirement already satisfied: jsonpatch<2.0,>=1.33 in d:\\weiar2\\app\\miniconda3\\envs\\openai-quickstart\\lib\\site-packages (from langchain-core<0.3.0,>=0.2.23->langchain) (1.33)\n",
      "Requirement already satisfied: packaging<25,>=23.2 in d:\\weiar2\\app\\miniconda3\\envs\\openai-quickstart\\lib\\site-packages (from langchain-core<0.3.0,>=0.2.23->langchain) (23.2)\n",
      "Requirement already satisfied: orjson<4.0.0,>=3.9.14 in d:\\weiar2\\app\\miniconda3\\envs\\openai-quickstart\\lib\\site-packages (from langsmith<0.2.0,>=0.1.17->langchain) (3.10.6)\n",
      "Requirement already satisfied: annotated-types>=0.4.0 in d:\\weiar2\\app\\miniconda3\\envs\\openai-quickstart\\lib\\site-packages (from pydantic<3,>=1->langchain) (0.6.0)\n",
      "Requirement already satisfied: pydantic-core==2.14.6 in d:\\weiar2\\app\\miniconda3\\envs\\openai-quickstart\\lib\\site-packages (from pydantic<3,>=1->langchain) (2.14.6)\n",
      "Requirement already satisfied: typing-extensions>=4.6.1 in d:\\weiar2\\app\\miniconda3\\envs\\openai-quickstart\\lib\\site-packages (from pydantic<3,>=1->langchain) (4.9.0)\n",
      "Requirement already satisfied: charset-normalizer<4,>=2 in d:\\weiar2\\app\\miniconda3\\envs\\openai-quickstart\\lib\\site-packages (from requests<3,>=2->langchain) (3.3.2)\n",
      "Requirement already satisfied: idna<4,>=2.5 in d:\\weiar2\\app\\miniconda3\\envs\\openai-quickstart\\lib\\site-packages (from requests<3,>=2->langchain) (3.6)\n",
      "Requirement already satisfied: urllib3<3,>=1.21.1 in d:\\weiar2\\app\\miniconda3\\envs\\openai-quickstart\\lib\\site-packages (from requests<3,>=2->langchain) (1.26.18)\n",
      "Requirement already satisfied: certifi>=2017.4.17 in d:\\weiar2\\app\\miniconda3\\envs\\openai-quickstart\\lib\\site-packages (from requests<3,>=2->langchain) (2024.2.2)\n",
      "Requirement already satisfied: greenlet!=0.4.17 in d:\\weiar2\\app\\miniconda3\\envs\\openai-quickstart\\lib\\site-packages (from SQLAlchemy<3,>=1.4->langchain) (3.0.3)\n",
      "Requirement already satisfied: jsonpointer>=1.9 in d:\\weiar2\\app\\miniconda3\\envs\\openai-quickstart\\lib\\site-packages (from jsonpatch<2.0,>=1.33->langchain-core<0.3.0,>=0.2.23->langchain) (3.0.0)\n"
     ]
    }
   ],
   "source": [
    "! pip install -U langchain"
   ]
  },
  {
   "cell_type": "markdown",
   "id": "c81a7df0-26c7-4eb8-92f1-cc54445cf507",
   "metadata": {},
   "source": [
    "## LLMChain\n",
    "\n",
    "LLMChain 是 LangChain 中最简单的链，作为其他复杂 Chains 和 Agents 的内部调用，被广泛应用。\n",
    "\n",
    "一个LLMChain由PromptTemplate和语言模型（LLM or Chat Model）组成。它使用直接传入（或 memory 提供）的 key-value 来规范化生成 Prompt Template（提示模板），并将生成的 prompt （格式化后的字符串）传递给大模型，并返回大模型输出。\n",
    "\n",
    "![](../images/llm_chain.png)"
   ]
  },
  {
   "cell_type": "markdown",
   "id": "4fbd5ca7-ca54-4701-919c-2857266caefc",
   "metadata": {},
   "source": [
    "## Router Chain: 实现条件判断的大模型调用\n",
    "\n",
    "\n",
    "这段代码构建了一个可定制的链路系统，用户可以提供不同的输入提示，并根据这些提示获取适当的响应。\n",
    "\n",
    "主要逻辑：从`prompt_infos`创建多个`LLMChain`对象，并将它们保存在一个字典中，然后创建一个默认的`ConversationChain`，最后创建一个带有路由功能的`MultiPromptChain`。\n",
    "\n",
    "![](../images/router_chain.png)"
   ]
  },
  {
   "cell_type": "code",
   "execution_count": 2,
   "id": "aaf8c391-9225-4e66-ad4d-d689b53a0379",
   "metadata": {
    "ExecuteTime": {
     "end_time": "2024-07-27T07:29:24.070659500Z",
     "start_time": "2024-07-27T07:29:21.946554600Z"
    }
   },
   "outputs": [],
   "source": [
    "from langchain.chains.router import MultiPromptChain\n",
    "from langchain_openai import OpenAI\n",
    "from langchain.chains import ConversationChain\n",
    "from langchain.chains.llm import LLMChain\n",
    "from langchain.prompts import PromptTemplate"
   ]
  },
  {
   "cell_type": "code",
   "execution_count": 4,
   "id": "33b5061c-391e-4762-91c7-73b57f4ab501",
   "metadata": {
    "ExecuteTime": {
     "end_time": "2024-07-27T07:35:04.463678Z",
     "start_time": "2024-07-27T07:35:04.455170200Z"
    }
   },
   "outputs": [],
   "source": [
    "physics_template = \"\"\"你是一位非常聪明的物理教授。\n",
    "你擅长以简洁易懂的方式回答关于物理的问题。\n",
    "当你不知道某个问题的答案时，你会坦诚承认。\n",
    "\n",
    "这是一个问题：\n",
    "{input}\"\"\"\n",
    "\n",
    "\n",
    "math_template = \"\"\"你是一位很棒的数学家。你擅长回答数学问题。\n",
    "之所以如此出色，是因为你能够将难题分解成各个组成部分，\n",
    "先回答这些组成部分，然后再将它们整合起来回答更广泛的问题。\n",
    "\n",
    "这是一个问题：\n",
    "{input}\"\"\"\n",
    "\n",
    "\n",
    "biology_template = \"\"\"你是一位非常有经验的生物学教授。\n",
    "你擅长通过生动的例子和实验来解释复杂的生物学概念。\n",
    "当你不知道某个问题的答案时，你会坦诚承认。\n",
    "\n",
    "这是一个问题：\n",
    "{input}\"\"\"\n",
    "\n",
    "computer_science_template = \"\"\"你是一位非常创新的计算机科学教授。\n",
    "你擅长通过实际编程示例和项目来教授计算机科学的原理和应用。\n",
    "当你不知道某个问题的答案时，你会坦诚承认。\n",
    "\n",
    "这是一个问题：\n",
    "{input}\"\"\"\n",
    "\n",
    "chinese_language_template = \"\"\"你是一位非常博学的汉语言文学教授。\n",
    "你擅长通过经典文学作品和历史背景来讲解汉语言文学的精髓。\n",
    "当你不知道某个问题的答案时，你会坦诚承认。\n",
    "\n",
    "这是一个问题：\n",
    "{input}\"\"\""
   ]
  },
  {
   "cell_type": "code",
   "execution_count": 5,
   "id": "5ef1db6e-3da4-4f9b-9707-0f30aa293dd7",
   "metadata": {
    "ExecuteTime": {
     "end_time": "2024-07-27T07:35:12.540355Z",
     "start_time": "2024-07-27T07:35:12.515936200Z"
    }
   },
   "outputs": [],
   "source": [
    "prompt_infos = [\n",
    "    {\n",
    "        \"name\": \"物理\",\n",
    "        \"description\": \"适用于回答物理问题\",\n",
    "        \"prompt_template\": physics_template,\n",
    "    },\n",
    "    {\n",
    "        \"name\": \"数学\",\n",
    "        \"description\": \"适用于回答数学问题\",\n",
    "        \"prompt_template\": math_template,\n",
    "    },\n",
    "    {\n",
    "        \"name\": \"生物\",\n",
    "        \"description\": \"适用于回答生物学问题\",\n",
    "        \"prompt_template\": biology_template,\n",
    "    },\n",
    "    {\n",
    "        \"name\": \"计算机科学\",\n",
    "        \"description\": \"适用于回答计算机科学问题\",\n",
    "        \"prompt_template\": computer_science_template,\n",
    "    },\n",
    "    {\n",
    "        \"name\": \"汉语言文学\",\n",
    "        \"description\": \"适用于回答汉语言文学问题\",\n",
    "        \"prompt_template\": chinese_language_template,\n",
    "    },\n",
    "]"
   ]
  },
  {
   "cell_type": "code",
   "execution_count": 6,
   "id": "3983cafe-c2d5-4951-b779-88d844594777",
   "metadata": {
    "ExecuteTime": {
     "end_time": "2024-07-27T07:35:18.041591600Z",
     "start_time": "2024-07-27T07:35:17.644340100Z"
    }
   },
   "outputs": [],
   "source": [
    "llm = OpenAI(model_name=\"gpt-3.5-turbo-instruct\")"
   ]
  },
  {
   "cell_type": "code",
   "execution_count": 7,
   "id": "db8be9f0-1ac2-4ded-8950-6403cfa40004",
   "metadata": {
    "ExecuteTime": {
     "end_time": "2024-07-27T07:36:55.263553900Z",
     "start_time": "2024-07-27T07:36:54.086838700Z"
    }
   },
   "outputs": [
    {
     "name": "stderr",
     "output_type": "stream",
     "text": [
      "D:\\weiar2\\app\\miniconda3\\envs\\openai-quickstart\\lib\\site-packages\\langchain_core\\_api\\deprecation.py:139: LangChainDeprecationWarning: The class `LLMChain` was deprecated in LangChain 0.1.17 and will be removed in 1.0. Use RunnableSequence, e.g., `prompt | llm` instead.\n",
      "  warn_deprecated(\n",
      "D:\\weiar2\\app\\miniconda3\\envs\\openai-quickstart\\lib\\site-packages\\langchain_core\\_api\\deprecation.py:139: LangChainDeprecationWarning: The class `ConversationChain` was deprecated in LangChain 0.2.7 and will be removed in 1.0. Use RunnableWithMessageHistory: https://api.python.langchain.com/en/latest/runnables/langchain_core.runnables.history.RunnableWithMessageHistory.html instead.\n",
      "  warn_deprecated(\n"
     ]
    }
   ],
   "source": [
    "# 创建一个空的目标链字典，用于存放根据prompt_infos生成的LLMChain。\n",
    "destination_chains = {}\n",
    "\n",
    "# 遍历prompt_infos列表，为每个信息创建一个LLMChain。\n",
    "for p_info in prompt_infos:\n",
    "    name = p_info[\"name\"]  # 提取名称\n",
    "    prompt_template = p_info[\"prompt_template\"]  # 提取模板\n",
    "    # 创建PromptTemplate对象\n",
    "    prompt = PromptTemplate(template=prompt_template, input_variables=[\"input\"])\n",
    "    # 使用上述模板和llm对象创建LLMChain对象\n",
    "    chain = LLMChain(llm=llm, prompt=prompt)\n",
    "    # 将新创建的chain对象添加到destination_chains字典中\n",
    "    destination_chains[name] = chain\n",
    "\n",
    "# 创建一个默认的ConversationChain\n",
    "default_chain = ConversationChain(llm=llm, output_key=\"text\")"
   ]
  },
  {
   "cell_type": "code",
   "execution_count": 8,
   "id": "ae77b13a-2077-4e80-83f9-a2b1d8398461",
   "metadata": {
    "ExecuteTime": {
     "end_time": "2024-07-27T07:37:00.405183700Z",
     "start_time": "2024-07-27T07:37:00.377092600Z"
    }
   },
   "outputs": [
    {
     "data": {
      "text/plain": "langchain.chains.conversation.base.ConversationChain"
     },
     "execution_count": 8,
     "metadata": {},
     "output_type": "execute_result"
    }
   ],
   "source": [
    "type(default_chain)"
   ]
  },
  {
   "cell_type": "markdown",
   "id": "f5aa4a82-2d96-4124-8896-4e11e5d5c8e9",
   "metadata": {},
   "source": [
    "### 使用 LLMRouterChain 实现条件判断调用\n",
    "\n",
    "这段代码定义了一个chain对象（LLMRouterChain），该对象首先使用router_chain来决定哪个destination_chain应该被执行，如果没有合适的目标链，则默认使用default_chain。"
   ]
  },
  {
   "cell_type": "code",
   "execution_count": 9,
   "id": "1c196e6c-e767-4d4f-8327-50ead641bc3a",
   "metadata": {
    "ExecuteTime": {
     "end_time": "2024-07-27T07:37:06.792875600Z",
     "start_time": "2024-07-27T07:37:06.781916900Z"
    }
   },
   "outputs": [],
   "source": [
    "from langchain.chains.router.llm_router import LLMRouterChain, RouterOutputParser\n",
    "from langchain.chains.router.multi_prompt_prompt import MULTI_PROMPT_ROUTER_TEMPLATE"
   ]
  },
  {
   "cell_type": "code",
   "execution_count": 10,
   "id": "f5ada86e-e430-412c-828d-b053b630f07c",
   "metadata": {
    "ExecuteTime": {
     "end_time": "2024-07-27T07:37:15.139916400Z",
     "start_time": "2024-07-27T07:37:15.116816600Z"
    }
   },
   "outputs": [],
   "source": [
    "# 从prompt_infos中提取目标信息并将其转化为字符串列表\n",
    "destinations = [f\"{p['name']}: {p['description']}\" for p in prompt_infos]\n",
    "# 使用join方法将列表转化为字符串，每个元素之间用换行符分隔\n",
    "destinations_str = \"\\n\".join(destinations)\n",
    "# 根据MULTI_PROMPT_ROUTER_TEMPLATE格式化字符串和destinations_str创建路由模板\n",
    "router_template = MULTI_PROMPT_ROUTER_TEMPLATE.format(destinations=destinations_str)\n",
    "# 创建路由的PromptTemplate\n",
    "router_prompt = PromptTemplate(\n",
    "    template=router_template,\n",
    "    input_variables=[\"input\"],\n",
    "    output_parser=RouterOutputParser(),\n",
    ")\n",
    "# 使用上述路由模板和llm对象创建LLMRouterChain对象\n",
    "router_chain = LLMRouterChain.from_llm(llm, router_prompt)"
   ]
  },
  {
   "cell_type": "code",
   "execution_count": 11,
   "id": "8c1013dc-ae1f-468d-96b3-4babe0d50d1f",
   "metadata": {
    "ExecuteTime": {
     "end_time": "2024-07-27T07:37:16.660380100Z",
     "start_time": "2024-07-27T07:37:16.650877300Z"
    }
   },
   "outputs": [
    {
     "name": "stdout",
     "output_type": "stream",
     "text": [
      "['物理: 适用于回答物理问题', '数学: 适用于回答数学问题', '生物: 适用于回答生物学问题', '计算机科学: 适用于回答计算机科学问题', '汉语言文学: 适用于回答汉语言文学问题']\n"
     ]
    }
   ],
   "source": [
    "print(destinations)"
   ]
  },
  {
   "cell_type": "code",
   "execution_count": 12,
   "id": "a85ef126-aca1-40c2-8e01-d15af5500785",
   "metadata": {
    "ExecuteTime": {
     "end_time": "2024-07-27T07:37:21.382839700Z",
     "start_time": "2024-07-27T07:37:21.372150Z"
    }
   },
   "outputs": [
    {
     "name": "stdout",
     "output_type": "stream",
     "text": [
      "物理: 适用于回答物理问题\n",
      "数学: 适用于回答数学问题\n",
      "生物: 适用于回答生物学问题\n",
      "计算机科学: 适用于回答计算机科学问题\n",
      "汉语言文学: 适用于回答汉语言文学问题\n"
     ]
    }
   ],
   "source": [
    "print(destinations_str)"
   ]
  },
  {
   "cell_type": "code",
   "execution_count": 13,
   "id": "5db81fcb-704a-4250-a6b5-210e4be77af5",
   "metadata": {
    "ExecuteTime": {
     "end_time": "2024-07-27T07:37:32.491220500Z",
     "start_time": "2024-07-27T07:37:32.466701500Z"
    }
   },
   "outputs": [
    {
     "name": "stdout",
     "output_type": "stream",
     "text": [
      "Given a raw text input to a language model select the model prompt best suited for the input. You will be given the names of the available prompts and a description of what the prompt is best suited for. You may also revise the original input if you think that revising it will ultimately lead to a better response from the language model.\n",
      "\n",
      "<< FORMATTING >>\n",
      "Return a markdown code snippet with a JSON object formatted to look like:\n",
      "```json\n",
      "{{{{\n",
      "    \"destination\": string \\ name of the prompt to use or \"DEFAULT\"\n",
      "    \"next_inputs\": string \\ a potentially modified version of the original input\n",
      "}}}}\n",
      "```\n",
      "\n",
      "REMEMBER: \"destination\" MUST be one of the candidate prompt names specified below OR it can be \"DEFAULT\" if the input is not well suited for any of the candidate prompts.\n",
      "REMEMBER: \"next_inputs\" can just be the original input if you don't think any modifications are needed.\n",
      "\n",
      "<< CANDIDATE PROMPTS >>\n",
      "{destinations}\n",
      "\n",
      "<< INPUT >>\n",
      "{{input}}\n",
      "\n",
      "<< OUTPUT (must include ```json at the start of the response) >>\n",
      "<< OUTPUT (must end with ```) >>\n"
     ]
    }
   ],
   "source": [
    "print(MULTI_PROMPT_ROUTER_TEMPLATE)"
   ]
  },
  {
   "cell_type": "code",
   "execution_count": 14,
   "id": "f882244c-1fa6-4d74-a44c-578c9fb25e18",
   "metadata": {
    "ExecuteTime": {
     "end_time": "2024-07-27T07:37:35.144855Z",
     "start_time": "2024-07-27T07:37:35.132341100Z"
    }
   },
   "outputs": [
    {
     "name": "stdout",
     "output_type": "stream",
     "text": [
      "Given a raw text input to a language model select the model prompt best suited for the input. You will be given the names of the available prompts and a description of what the prompt is best suited for. You may also revise the original input if you think that revising it will ultimately lead to a better response from the language model.\n",
      "\n",
      "<< FORMATTING >>\n",
      "Return a markdown code snippet with a JSON object formatted to look like:\n",
      "```json\n",
      "{{\n",
      "    \"destination\": string \\ name of the prompt to use or \"DEFAULT\"\n",
      "    \"next_inputs\": string \\ a potentially modified version of the original input\n",
      "}}\n",
      "```\n",
      "\n",
      "REMEMBER: \"destination\" MUST be one of the candidate prompt names specified below OR it can be \"DEFAULT\" if the input is not well suited for any of the candidate prompts.\n",
      "REMEMBER: \"next_inputs\" can just be the original input if you don't think any modifications are needed.\n",
      "\n",
      "<< CANDIDATE PROMPTS >>\n",
      "物理: 适用于回答物理问题\n",
      "数学: 适用于回答数学问题\n",
      "生物: 适用于回答生物学问题\n",
      "计算机科学: 适用于回答计算机科学问题\n",
      "汉语言文学: 适用于回答汉语言文学问题\n",
      "\n",
      "<< INPUT >>\n",
      "{input}\n",
      "\n",
      "<< OUTPUT (must include ```json at the start of the response) >>\n",
      "<< OUTPUT (must end with ```) >>\n"
     ]
    }
   ],
   "source": [
    "print(router_template)"
   ]
  },
  {
   "cell_type": "code",
   "execution_count": 15,
   "id": "c2a482e4-5757-4295-a3d8-c3fdd1d4abd2",
   "metadata": {
    "ExecuteTime": {
     "end_time": "2024-07-27T07:37:42.759582300Z",
     "start_time": "2024-07-27T07:37:42.730247300Z"
    }
   },
   "outputs": [],
   "source": [
    "# 创建MultiPromptChain对象，其中包含了路由链，目标链和默认链。\n",
    "chain = MultiPromptChain(\n",
    "    router_chain=router_chain,\n",
    "    destination_chains=destination_chains,\n",
    "    default_chain=default_chain,\n",
    "    verbose=True,\n",
    ")"
   ]
  },
  {
   "cell_type": "code",
   "execution_count": 16,
   "id": "128bb7a0-b176-4b14-835e-8aaa723ab441",
   "metadata": {
    "ExecuteTime": {
     "end_time": "2024-07-27T07:37:48.730015300Z",
     "start_time": "2024-07-27T07:37:44.410268600Z"
    }
   },
   "outputs": [
    {
     "name": "stdout",
     "output_type": "stream",
     "text": [
      "\n",
      "\n",
      "\u001B[1m> Entering new MultiPromptChain chain...\u001B[0m\n",
      "物理: {'input': '黑体辐射是什么？'}\n",
      "\u001B[1m> Finished chain.\u001B[0m\n",
      "{'input': '黑体辐射是什么？', 'text': '\\n黑体辐射是指处于热平衡状态的物体所发出的电磁辐射，它的频率和强度与温度有关。它的特点是在所有频率上都有辐射，而且其频率和强度的分布仅取决于物体的温度，而与物体的性质无关。这是一个重要的物理现象，在热学、光学和天文学等领域都有应用。'}\n"
     ]
    }
   ],
   "source": [
    "print(chain.invoke(\"黑体辐射是什么？?\"))"
   ]
  },
  {
   "cell_type": "code",
   "execution_count": 17,
   "id": "cd869807-9cec-4bb2-9104-ecc4efce9baa",
   "metadata": {
    "ExecuteTime": {
     "end_time": "2024-07-27T07:37:54.665733500Z",
     "start_time": "2024-07-27T07:37:51.128603800Z"
    }
   },
   "outputs": [
    {
     "name": "stdout",
     "output_type": "stream",
     "text": [
      "\n",
      "\n",
      "\u001B[1m> Entering new MultiPromptChain chain...\u001B[0m\n",
      "数学: {'input': '大于40的第一个质数是多少，使得这个质数加一能被3整除？'}\n",
      "\u001B[1m> Finished chain.\u001B[0m\n",
      "{'input': '大于40的第一个质数是多少，使得这个质数加一能被3整除？', 'text': '\\n\\n答案：43，因为43是大于40的最小的质数，且44除以3余数为2，加一后能被3整除。'}\n"
     ]
    }
   ],
   "source": [
    "print(\n",
    "    chain.invoke(\n",
    "        \"大于40的第一个质数是多少，使得这个质数加一能被3整除？\"\n",
    "    )\n",
    ")"
   ]
  },
  {
   "cell_type": "code",
   "execution_count": 18,
   "id": "7ad5dcb2-48c0-4d0f-b6cc-09ebcbdce75e",
   "metadata": {
    "ExecuteTime": {
     "end_time": "2024-07-27T07:37:59.470065600Z",
     "start_time": "2024-07-27T07:37:59.464715100Z"
    }
   },
   "outputs": [],
   "source": [
    "router_chain.verbose = True"
   ]
  },
  {
   "cell_type": "code",
   "execution_count": 19,
   "id": "bd37e004-bb24-4929-992c-34407593d86e",
   "metadata": {
    "ExecuteTime": {
     "end_time": "2024-07-27T07:38:06.284611800Z",
     "start_time": "2024-07-27T07:38:01.865660400Z"
    }
   },
   "outputs": [
    {
     "name": "stdout",
     "output_type": "stream",
     "text": [
      "\n",
      "\n",
      "\u001B[1m> Entering new MultiPromptChain chain...\u001B[0m\n",
      "\n",
      "\n",
      "\u001B[1m> Entering new LLMRouterChain chain...\u001B[0m\n",
      "\n",
      "\u001B[1m> Finished chain.\u001B[0m\n",
      "物理: {'input': '什么是黑洞？'}\n",
      "\u001B[1m> Finished chain.\u001B[0m\n",
      "{'input': '什么是黑洞？', 'text': '\\n\\n黑洞是一种密度极高的天体，它的引力非常强大，甚至连光都无法逃离它的吸引力。这种天体是由恒星坍塌形成的，其核心的密度会无限增加，直到无限大，因此它产生的引力也会无限增大。这使得黑洞周围的空间产生了弯曲，形成了一个称为事件视界的区域，任何落入这个区域的物质都无法逃脱。黑洞的存在可以通过它产生的引力影响周围物体的运动来证明。'}\n"
     ]
    }
   ],
   "source": [
    "print(chain.invoke(\"黑洞是什么？\"))"
   ]
  },
  {
   "cell_type": "code",
   "execution_count": 20,
   "id": "a51119ed-025f-48d7-ad81-cd9cdab7090f",
   "metadata": {
    "ExecuteTime": {
     "end_time": "2024-07-27T07:38:48.467025100Z",
     "start_time": "2024-07-27T07:38:43.953096300Z"
    }
   },
   "outputs": [
    {
     "name": "stdout",
     "output_type": "stream",
     "text": [
      "\n",
      "\n",
      "\u001B[1m> Entering new MultiPromptChain chain...\u001B[0m\n",
      "\n",
      "\n",
      "\u001B[1m> Entering new LLMRouterChain chain...\u001B[0m\n",
      "\n",
      "\u001B[1m> Finished chain.\u001B[0m\n",
      "数学: {'input': '什么是欧拉公式？'}\n",
      "\u001B[1m> Finished chain.\u001B[0m\n",
      "{'input': '什么是欧拉公式？', 'text': '\\n\\n欧拉公式是数学家欧拉提出的一条重要的数学公式，也被称为欧拉方程。它的数学表达式为e^(ix)=cos(x)+isin(x)，其中e为自然对数的底数，i为虚数单位，x为任意实数。这个公式将三种基本的数学常数e、i、π联系在一起，可以被看作是数学中最具有美感的公式之一。它在数学分析、复变函数、微积分等多个领域都有广泛的应用。'}\n"
     ]
    }
   ],
   "source": [
    "print(chain.invoke(\"欧拉公式是什么？\"))"
   ]
  },
  {
   "cell_type": "code",
   "execution_count": 20,
   "id": "cbda2930-a0e6-48b2-8e02-4c3d792f0225",
   "metadata": {
    "ExecuteTime": {
     "end_time": "2024-07-27T07:38:52.651804300Z",
     "start_time": "2024-07-27T07:38:52.648115100Z"
    }
   },
   "outputs": [],
   "source": []
  },
  {
   "cell_type": "code",
   "execution_count": 20,
   "id": "24d11e0f-d5ee-4086-9e1a-b21000232134",
   "metadata": {
    "ExecuteTime": {
     "end_time": "2024-07-27T07:38:53.259634800Z",
     "start_time": "2024-07-27T07:38:53.221485100Z"
    }
   },
   "outputs": [],
   "source": []
  },
  {
   "cell_type": "markdown",
   "id": "8b6836f0-213d-4cac-abc9-3617831be3db",
   "metadata": {},
   "source": [
    "### Homework\n",
    "\n",
    "#### 扩展 Demo：实现生物、计算机和汉语言文学老师 PromptTemplates 及对应 Chains"
   ]
  },
  {
   "cell_type": "code",
   "execution_count": 21,
   "id": "1c7edb0a-675d-40c0-9f5d-d58f0170ce72",
   "metadata": {
    "ExecuteTime": {
     "end_time": "2024-07-27T07:39:21.821991200Z",
     "start_time": "2024-07-27T07:39:17.407739500Z"
    }
   },
   "outputs": [
    {
     "name": "stdout",
     "output_type": "stream",
     "text": [
      "\n",
      "\n",
      "\u001B[1m> Entering new MultiPromptChain chain...\u001B[0m\n",
      "\n",
      "\n",
      "\u001B[1m> Entering new LLMRouterChain chain...\u001B[0m\n",
      "\n",
      "\u001B[1m> Finished chain.\u001B[0m\n",
      "生物: {'input': 'DNA是什么？'}\n",
      "\u001B[1m> Finished chain.\u001B[0m\n",
      "{'input': 'DNA是什么？', 'text': '\\n\\nDNA是脱氧核糖核酸，它是生物体内存储遗传信息的分子。它由四种碱基（腺嘌呤、鸟嘌呤、胸腺嘧啶和胞嘧啶）组成，并以双螺旋结构呈现。DNA通过遗传信息的传递来控制生物体的生长、发育和功能。它也是生物学研究中非常重要的一部分，因为它可以帮助我们了解生物体的进化和遗传变化。'}\n"
     ]
    }
   ],
   "source": [
    "print(chain.invoke(\"DNA是什么？\"))"
   ]
  },
  {
   "cell_type": "code",
   "execution_count": 22,
   "outputs": [
    {
     "name": "stdout",
     "output_type": "stream",
     "text": [
      "\n",
      "\n",
      "\u001B[1m> Entering new MultiPromptChain chain...\u001B[0m\n",
      "\n",
      "\n",
      "\u001B[1m> Entering new LLMRouterChain chain...\u001B[0m\n",
      "\n",
      "\u001B[1m> Finished chain.\u001B[0m\n",
      "计算机科学: {'input': '怎么用python实现冒泡排序算法？'}\n",
      "\u001B[1m> Finished chain.\u001B[0m\n",
      "{'input': '怎么用python实现冒泡排序算法？', 'text': '\\n\\n冒泡排序算法是一种简单的排序算法，它的基本思想是通过不断比较相邻的两个元素，将较大的元素向后移动，最终实现整个数组的有序排列。以下是用Python实现冒泡排序算法的代码：\\n\\n```\\n# 定义一个函数bubble_sort，用于实现冒泡排序\\ndef bubble_sort(arr):\\n    # 获取数组的长度\\n    n = len(arr)\\n\\n    # 遍历数组，进行n-1轮比较\\n    for i in range(n - 1):\\n        # 每轮比较，都从数组的第一个元素开始，直到倒数第i+1个元素\\n        for j in range(n - i - 1):\\n            # 如果相邻的两个元素大小顺序不正确，就进行交换\\n            if arr[j] > arr[j + 1]:\\n                arr[j], arr[j + 1] = arr[j + 1], arr[j]\\n\\n    # 返回排序'}\n"
     ]
    }
   ],
   "source": [
    "print(chain.invoke(\"怎么用python实现冒泡排序算法？\"))"
   ],
   "metadata": {
    "collapsed": false,
    "ExecuteTime": {
     "end_time": "2024-07-27T07:40:21.198881700Z",
     "start_time": "2024-07-27T07:40:16.151208800Z"
    }
   },
   "id": "eacb9e222418e29a"
  },
  {
   "cell_type": "code",
   "execution_count": 24,
   "outputs": [
    {
     "name": "stdout",
     "output_type": "stream",
     "text": [
      "\n",
      "\n",
      "\u001B[1m> Entering new MultiPromptChain chain...\u001B[0m\n",
      "\n",
      "\n",
      "\u001B[1m> Entering new LLMRouterChain chain...\u001B[0m\n",
      "\n",
      "\u001B[1m> Finished chain.\u001B[0m\n",
      "汉语言文学: {'input': '红楼梦是谁写的？'}\n",
      "\u001B[1m> Finished chain.\u001B[0m\n",
      "{'input': '红楼梦是谁写的？', 'text': '\\n\\n红楼梦是清朝作家曹雪芹所著的长篇小说。'}\n"
     ]
    }
   ],
   "source": [
    "print(chain.invoke(\"红楼梦是谁写的？\"))"
   ],
   "metadata": {
    "collapsed": false,
    "ExecuteTime": {
     "end_time": "2024-07-27T07:40:49.256274800Z",
     "start_time": "2024-07-27T07:40:45.615694700Z"
    }
   },
   "id": "a0a1efc2f55daabb"
  },
  {
   "cell_type": "code",
   "execution_count": null,
   "outputs": [],
   "source": [],
   "metadata": {
    "collapsed": false
   },
   "id": "cdb0e054c999a4af"
  }
 ],
 "metadata": {
  "kernelspec": {
   "name": "openai-quickstart",
   "language": "python",
   "display_name": "openai-quickstart"
  },
  "language_info": {
   "codemirror_mode": {
    "name": "ipython",
    "version": 3
   },
   "file_extension": ".py",
   "mimetype": "text/x-python",
   "name": "python",
   "nbconvert_exporter": "python",
   "pygments_lexer": "ipython3",
   "version": "3.10.14"
  }
 },
 "nbformat": 4,
 "nbformat_minor": 5
}
